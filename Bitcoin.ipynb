{
 "cells": [
  {
   "cell_type": "markdown",
   "metadata": {},
   "source": [
    "# Machine Learning Engineer\n",
    "\n",
    "Capstone Project\n",
    "\n",
    "Project: Bitcoin Price Predictor"
   ]
  },
  {
   "cell_type": "markdown",
   "metadata": {},
   "source": [
    "# Step 1: Data Set "
   ]
  },
  {
   "cell_type": "code",
   "execution_count": 1,
   "metadata": {},
   "outputs": [
    {
     "name": "stderr",
     "output_type": "stream",
     "text": [
      "/Users/Adil/anaconda/lib/python2.7/site-packages/sklearn/cross_validation.py:44: DeprecationWarning: This module was deprecated in version 0.18 in favor of the model_selection module into which all the refactored classes and functions are moved. Also note that the interface of the new CV iterators are different from that of this module. This module will be removed in 0.20.\n",
      "  \"This module will be removed in 0.20.\", DeprecationWarning)\n"
     ]
    },
    {
     "name": "stdout",
     "output_type": "stream",
     "text": [
      "The Dataset has been loaded\n"
     ]
    }
   ],
   "source": [
    "# Import libraries necessary for this project\n",
    "import numpy as np\n",
    "import pandas as pd\n",
    "from IPython.display import display\n",
    "from sklearn.cross_validation import ShuffleSplit\n",
    "from datetime import datetime\n",
    "\n",
    "# Load the Boston housing dataset\n",
    "bitcoin = pd.read_csv('BTC-USD.csv')\n",
    "\n",
    "print (\"The Dataset has been loaded\")"
   ]
  },
  {
   "cell_type": "markdown",
   "metadata": {},
   "source": [
    "# Step 2: Preprocess The Data and Normalize it "
   ]
  },
  {
   "cell_type": "code",
   "execution_count": 2,
   "metadata": {},
   "outputs": [
    {
     "name": "stdout",
     "output_type": "stream",
     "text": [
      "         Date         Open         High          Low        Close  \\\n",
      "0  2017-01-01   963.380005  1001.609985   956.099976   995.440002   \n",
      "1  2017-01-02   995.440002  1031.680054   990.200012  1017.049988   \n",
      "2  2017-01-03  1017.049988  1035.469971  1006.530029  1033.300049   \n",
      "3  2017-01-04  1033.300049  1148.540039  1022.320007  1135.410034   \n",
      "4  2017-01-05  1135.410034  1150.630005   874.530029   989.349976   \n",
      "\n",
      "     Adj Close     Volume  \n",
      "0   995.440002   40570922  \n",
      "1  1017.049988   66038073  \n",
      "2  1033.300049   56085870  \n",
      "3  1135.410034  170584623  \n",
      "4   989.349976  244839289  \n",
      "-----------------------------------------------------------------------\n",
      "           Date          Open          High           Low         Close  \\\n",
      "360  2017-12-27  15757.019531  16514.589844  14534.660156  15416.639648   \n",
      "361  2017-12-28  15416.339844  15505.509766  13466.070313  14398.700195   \n",
      "362  2017-12-29  14398.450195  15109.809570  13951.080078  14392.570313   \n",
      "363  2017-12-30  14392.139648  14461.459961  11962.089844  12531.519531   \n",
      "364  2017-12-31  12532.379883  14241.820313  12359.429688  13850.400391   \n",
      "\n",
      "        Adj Close      Volume  \n",
      "360  15416.639648  2162831128  \n",
      "361  14398.700195  2425912717  \n",
      "362  14392.570313  1733583750  \n",
      "363  12531.519531  2387311023  \n",
      "364  13850.400391  1492142483  \n",
      "\n",
      "\n",
      "This will tells me how the dataset looks from the top send and how it looks from the bottom end \n"
     ]
    }
   ],
   "source": [
    "print (bitcoin.head())\n",
    "print (\"-----------------------------------------------------------------------\")\n",
    "print (bitcoin.tail())\n",
    "print (\"\\n\")\n",
    "print (\"This will tells me how the dataset looks from the top send and how it looks from the bottom end \")"
   ]
  },
  {
   "cell_type": "code",
   "execution_count": 29,
   "metadata": {},
   "outputs": [
    {
     "name": "stdout",
     "output_type": "stream",
     "text": [
      "Index([u'Date', u'Open', u'High', u'Low', u'Close', u'Adj Close', u'Volume'], dtype='object')\n",
      "\n",
      "\n",
      "This will tell me what columns are used for the dataset\n"
     ]
    }
   ],
   "source": [
    "print (bitcoin.dtypes.index)\n",
    "print (\"\\n\")\n",
    "print (\"This will tell me what columns are used for the dataset\")"
   ]
  },
  {
   "cell_type": "code",
   "execution_count": 30,
   "metadata": {},
   "outputs": [
    {
     "name": "stdout",
     "output_type": "stream",
     "text": [
      "The Statistic of When the Market is Open \n",
      "\n",
      "The minimum price of when the market was open was: $ 785.429993\n",
      "The maximum price of when the market was open was: $ 19346.599609\n",
      "The mean of when the market was open was:  3945.74981474\n",
      "The standard deviation of when the market was open was:  3951.07964561\n"
     ]
    }
   ],
   "source": [
    "#Stats When Market is Open \n",
    "print (\"The Statistic of When the Market is Open \\n\")\n",
    "\n",
    "print \"The minimum price of when the market was open was: $\",np.min(bitcoin['Open'])\n",
    "print \"The maximum price of when the market was open was: $\",np.max(bitcoin['Open'])\n",
    "print \"The mean of when the market was open was: \",np.mean(bitcoin['Open'])\n",
    "print \"The standard deviation of when the market was open was: \",np.std(bitcoin['Open'])"
   ]
  },
  {
   "cell_type": "code",
   "execution_count": 31,
   "metadata": {},
   "outputs": [
    {
     "name": "stdout",
     "output_type": "stream",
     "text": [
      "The Statistic of When the Market is Closed \n",
      "\n",
      "The minimum price of when the market was closed was: $ 785.429993\n",
      "The maximum price of when the market was closed was: $ 19345.490234\n",
      "The mean of when the market was closed was:  3981.07152553\n",
      "The standard deviation of when the market was closed was:  3981.70966239\n"
     ]
    }
   ],
   "source": [
    "#Stats When Market is Closed\n",
    "print \"The Statistic of When the Market is Closed \\n\"\n",
    "\n",
    "print \"The minimum price of when the market was closed was: $\",np.min(bitcoin['Close'])\n",
    "print \"The maximum price of when the market was closed was: $\",np.max(bitcoin['Close'])\n",
    "print \"The mean of when the market was closed was: \",np.mean(bitcoin['Close'])\n",
    "print \"The standard deviation of when the market was closed was: \",np.std(bitcoin['Close'])"
   ]
  },
  {
   "cell_type": "code",
   "execution_count": 32,
   "metadata": {},
   "outputs": [
    {
     "name": "stdout",
     "output_type": "stream",
     "text": [
      "The Statistic of When the Market was at its Highest  \n",
      "\n",
      "The minimum price of when the market was at its highest: $ 826.429993\n",
      "The maximum price of when the market was at its highest: $ 19870.619141\n",
      "The mean of when the market was at its highest:  4124.41227024\n",
      "The standard deviation of when the market was at its highest:  4180.16477853\n"
     ]
    }
   ],
   "source": [
    "#Stats When Market is at its Highest\n",
    "print \"The Statistic of When the Market was at its Highest  \\n\"\n",
    "\n",
    "print \"The minimum price of when the market was at its highest: $\",np.min(bitcoin['High'])\n",
    "print \"The maximum price of when the market was at its highest: $\",np.max(bitcoin['High'])\n",
    "print \"The mean of when the market was at its highest: \",np.mean(bitcoin['High'])\n",
    "print \"The standard deviation of when the market was at its highest: \",np.std(bitcoin['High'])"
   ]
  },
  {
   "cell_type": "code",
   "execution_count": 7,
   "metadata": {},
   "outputs": [
    {
     "name": "stdout",
     "output_type": "stream",
     "text": [
      "The Statistic of When the Market was at its Lowest  \n",
      "\n",
      "The minimum price of when the market was at its lowest: $ 739.549988\n",
      "The maximum price of when the market was at its lowest: $ 18750.910156\n",
      "The mean of when the market was at its lowest:  3765.69586917\n",
      "The standard deviation of when the market was at its lowest:  3681.58390551\n"
     ]
    }
   ],
   "source": [
    "#Stats When Market is at Lowest\n",
    "print \"The Statistic of When the Market was at its Lowest  \\n\"\n",
    "\n",
    "print \"The minimum price of when the market was at its lowest: $\",np.min(bitcoin['Low'])\n",
    "print \"The maximum price of when the market was at its lowest: $\",np.max(bitcoin['Low'])\n",
    "print \"The mean of when the market was at its lowest: \",np.mean(bitcoin['Low'])\n",
    "print \"The standard deviation of when the market was at its lowest: \",np.std(bitcoin['Low'])"
   ]
  },
  {
   "cell_type": "code",
   "execution_count": 8,
   "metadata": {},
   "outputs": [
    {
     "name": "stdout",
     "output_type": "stream",
     "text": [
      "The Statistic of When the Market for the Adjusted Closed   \n",
      "\n",
      "The minimum price of the Adjusted Closed : $ 785.429993\n",
      "The maximum price of the Adjusted Closed : $ 19345.490234\n",
      "The mean of the Adjusted Closed:  3981.07152553\n",
      "The standard deviation of the Adjusted Closed :  3981.70966239\n"
     ]
    }
   ],
   "source": [
    "#Stats When Market for the Adj Closed\n",
    "print \"The Statistic of When the Market for the Adjusted Closed   \\n\"\n",
    "\n",
    "print \"The minimum price of the Adjusted Closed : $\",np.min(bitcoin['Adj Close'])\n",
    "print \"The maximum price of the Adjusted Closed : $\",np.max(bitcoin['Adj Close'])\n",
    "print \"The mean of the Adjusted Closed: \",np.mean(bitcoin['Adj Close'])\n",
    "print \"The standard deviation of the Adjusted Closed : \",np.std(bitcoin['Adj Close'])"
   ]
  },
  {
   "cell_type": "code",
   "execution_count": 9,
   "metadata": {},
   "outputs": [
    {
     "name": "stdout",
     "output_type": "stream",
     "text": [
      "The Statistic of Volume  \n",
      "\n",
      "The minimum price of the Volume:  10214368\n",
      "The maximum price of the Volume:  6245731508\n",
      "The mean of the Volume:  502642902.567\n",
      "The standard deviation of the Volume: 748665681.327\n"
     ]
    }
   ],
   "source": [
    "#Stats When Market for the Volume \n",
    "print \"The Statistic of Volume  \\n\"\n",
    "\n",
    "print \"The minimum price of the Volume: \",np.min(bitcoin['Volume'])\n",
    "print \"The maximum price of the Volume: \",np.max(bitcoin['Volume'])\n",
    "print \"The mean of the Volume: \",np.mean(bitcoin['Volume'])\n",
    "print \"The standard deviation of the Volume:\",np.std(bitcoin['Volume'])"
   ]
  },
  {
   "cell_type": "code",
   "execution_count": 2,
   "metadata": {},
   "outputs": [
    {
     "data": {
      "text/plain": [
       "0     2017-01-01\n",
       "1     2017-01-02\n",
       "2     2017-01-03\n",
       "3     2017-01-04\n",
       "4     2017-01-05\n",
       "5     2017-01-06\n",
       "6     2017-01-07\n",
       "7     2017-01-08\n",
       "8     2017-01-09\n",
       "9     2017-01-10\n",
       "10    2017-01-11\n",
       "11    2017-01-12\n",
       "12    2017-01-13\n",
       "13    2017-01-14\n",
       "14    2017-01-15\n",
       "15    2017-01-16\n",
       "16    2017-01-17\n",
       "17    2017-01-18\n",
       "18    2017-01-19\n",
       "19    2017-01-20\n",
       "20    2017-01-21\n",
       "21    2017-01-22\n",
       "22    2017-01-23\n",
       "23    2017-01-24\n",
       "24    2017-01-25\n",
       "25    2017-01-26\n",
       "26    2017-01-27\n",
       "27    2017-01-28\n",
       "28    2017-01-29\n",
       "29    2017-01-30\n",
       "         ...    \n",
       "335   2017-12-02\n",
       "336   2017-12-03\n",
       "337   2017-12-04\n",
       "338   2017-12-05\n",
       "339   2017-12-06\n",
       "340   2017-12-07\n",
       "341   2017-12-08\n",
       "342   2017-12-09\n",
       "343   2017-12-10\n",
       "344   2017-12-11\n",
       "345   2017-12-12\n",
       "346   2017-12-13\n",
       "347   2017-12-14\n",
       "348   2017-12-15\n",
       "349   2017-12-16\n",
       "350   2017-12-17\n",
       "351   2017-12-18\n",
       "352   2017-12-19\n",
       "353   2017-12-20\n",
       "354   2017-12-21\n",
       "355   2017-12-22\n",
       "356   2017-12-23\n",
       "357   2017-12-24\n",
       "358   2017-12-25\n",
       "359   2017-12-26\n",
       "360   2017-12-27\n",
       "361   2017-12-28\n",
       "362   2017-12-29\n",
       "363   2017-12-30\n",
       "364   2017-12-31\n",
       "Name: Date, Length: 365, dtype: datetime64[ns]"
      ]
     },
     "execution_count": 2,
     "metadata": {},
     "output_type": "execute_result"
    }
   ],
   "source": [
    "pd.to_datetime(bitcoin['Date'])"
   ]
  },
  {
   "cell_type": "code",
   "execution_count": 11,
   "metadata": {},
   "outputs": [
    {
     "name": "stdout",
     "output_type": "stream",
     "text": [
      "           Date          Open          High           Low         Close  \\\n",
      "0    2017-01-01    963.380005   1001.609985    956.099976    995.440002   \n",
      "1    2017-01-02    995.440002   1031.680054    990.200012   1017.049988   \n",
      "2    2017-01-03   1017.049988   1035.469971   1006.530029   1033.300049   \n",
      "3    2017-01-04   1033.300049   1148.540039   1022.320007   1135.410034   \n",
      "4    2017-01-05   1135.410034   1150.630005    874.530029    989.349976   \n",
      "5    2017-01-06    989.349976   1027.420044    852.549988    886.159973   \n",
      "6    2017-01-07    886.159973    900.859985    806.659973    888.869995   \n",
      "7    2017-01-08    888.869995    936.130005    875.849976    900.859985   \n",
      "8    2017-01-09    900.859985    910.469971    870.909973    899.780029   \n",
      "9    2017-01-10    899.780029    911.320007    890.119995    904.369995   \n",
      "10   2017-01-11    904.369995    917.650024    751.630005    785.429993   \n",
      "11   2017-01-12    785.429993    828.210022    739.549988    810.109985   \n",
      "12   2017-01-13    810.109985    835.049988    771.000000    824.830017   \n",
      "13   2017-01-14    824.830017    838.900024    808.270020    819.630005   \n",
      "14   2017-01-15    819.630005    826.429993    808.630005    821.169983   \n",
      "15   2017-01-16    821.169983    836.659973    817.700012    827.340027   \n",
      "16   2017-01-17    827.340027    906.380005    825.039978    899.659973   \n",
      "17   2017-01-18    899.659973    913.669983    845.869995    872.030029   \n",
      "18   2017-01-19    872.030029    905.280029    870.710022    895.210022   \n",
      "19   2017-01-20    895.210022    901.489990    878.900024    892.909973   \n",
      "20   2017-01-21    892.909973    928.929993    889.460022    919.840027   \n",
      "21   2017-01-22    919.840027    938.380005    888.619995    918.840027   \n",
      "22   2017-01-23    918.840027    927.979980    910.849976    921.460022   \n",
      "23   2017-01-24    921.460022    925.609985    889.150024    893.750000   \n",
      "24   2017-01-25    893.750000    905.700012    883.630005    894.409973   \n",
      "25   2017-01-26    894.409973    919.320007    893.489990    915.559998   \n",
      "26   2017-01-27    915.559998    922.559998    907.919983    918.010010   \n",
      "27   2017-01-28    918.010010    921.890015    912.840027    918.510010   \n",
      "28   2017-01-29    918.510010    922.400024    912.679993    914.549988   \n",
      "29   2017-01-30    914.549988    922.349976    911.510010    920.729980   \n",
      "..          ...           ...           ...           ...           ...   \n",
      "335  2017-12-02  10861.469727  11175.230469  10715.549805  10912.730469   \n",
      "336  2017-12-03  10912.719727  11851.089844  10578.429688  11246.209961   \n",
      "337  2017-12-04  11244.200195  11624.629883  10917.809570  11623.910156   \n",
      "338  2017-12-05  11624.370117  11901.870117  11486.129883  11667.129883   \n",
      "339  2017-12-06  11667.129883  13843.200195  11661.759766  13749.570313   \n",
      "340  2017-12-07  13750.089844  16879.259766  13401.610352  16850.310547   \n",
      "341  2017-12-08  16867.980469  17294.849609  13906.099609  16047.610352   \n",
      "342  2017-12-09  16048.179688  16313.179688  13151.469727  14843.419922   \n",
      "343  2017-12-10  14839.980469  15783.200195  13031.000000  15059.599609   \n",
      "344  2017-12-11  15060.450195  17399.179688  15024.559570  16732.470703   \n",
      "345  2017-12-12  16733.289063  17560.650391  16254.530273  17083.900391   \n",
      "346  2017-12-13  17083.900391  17267.960938  15669.860352  16286.820313   \n",
      "347  2017-12-14  16286.820313  16941.080078  16023.639648  16467.910156   \n",
      "348  2017-12-15  16467.910156  17987.029297  16442.199219  17604.849609   \n",
      "349  2017-12-16  17594.080078  19587.699219  17318.539063  19345.490234   \n",
      "350  2017-12-17  19346.599609  19870.619141  18750.910156  19065.710938   \n",
      "351  2017-12-18  19065.710938  19221.099609  18114.419922  18972.320313   \n",
      "352  2017-12-19  18971.189453  19021.970703  16812.800781  17523.699219   \n",
      "353  2017-12-20  17521.730469  17813.599609  15642.690430  16461.970703   \n",
      "354  2017-12-21  16461.089844  17301.830078  14952.980469  15632.120117   \n",
      "355  2017-12-22  15632.120117  15823.719727  10875.709961  13664.969727   \n",
      "356  2017-12-23  13664.969727  15493.230469  13356.070313  14396.459961   \n",
      "357  2017-12-24  14396.629883  14413.719727  12166.450195  13789.950195   \n",
      "358  2017-12-25  13789.950195  14467.429688  13010.709961  13833.490234   \n",
      "359  2017-12-26  13830.190430  16094.669922  13748.490234  15756.559570   \n",
      "360  2017-12-27  15757.019531  16514.589844  14534.660156  15416.639648   \n",
      "361  2017-12-28  15416.339844  15505.509766  13466.070313  14398.700195   \n",
      "362  2017-12-29  14398.450195  15109.809570  13951.080078  14392.570313   \n",
      "363  2017-12-30  14392.139648  14461.459961  11962.089844  12531.519531   \n",
      "364  2017-12-31  12532.379883  14241.820313  12359.429688  13850.400391   \n",
      "\n",
      "        Adj Close      Volume  \n",
      "0      995.440002    40570922  \n",
      "1     1017.049988    66038073  \n",
      "2     1033.300049    56085870  \n",
      "3     1135.410034   170584623  \n",
      "4      989.349976   244839289  \n",
      "5      886.159973   179160668  \n",
      "6      888.869995   113037531  \n",
      "7      900.859985    70298340  \n",
      "8      899.780029    55963281  \n",
      "9      904.369995    48644106  \n",
      "10     785.429993   160194109  \n",
      "11     810.109985    93986701  \n",
      "12     824.830017    72555875  \n",
      "13     819.630005    36594482  \n",
      "14     821.169983    20004735  \n",
      "15     827.340027    27592899  \n",
      "16     899.659973    72272727  \n",
      "17     872.030029    61042392  \n",
      "18     895.210022    52300814  \n",
      "19     892.909973    34847130  \n",
      "20     919.840027    37129176  \n",
      "21     918.840027    44074299  \n",
      "22     921.460022    30261054  \n",
      "23     893.750000    53468911  \n",
      "24     894.409973    34014866  \n",
      "25     915.559998    30795685  \n",
      "26     918.010010    28503144  \n",
      "27     918.510010    13251844  \n",
      "28     914.549988    10214368  \n",
      "29     920.729980    17604172  \n",
      "..            ...         ...  \n",
      "335  10912.730469   950474241  \n",
      "336  11246.209961  1380012064  \n",
      "337  11623.910156  1057859226  \n",
      "338  11667.129883  1048839303  \n",
      "339  13749.570313  2437037791  \n",
      "340  16850.310547  4510225316  \n",
      "341  16047.610352  4546014731  \n",
      "342  14843.419922  2699876215  \n",
      "343  15059.599609  2904037859  \n",
      "344  16732.470703  2634267594  \n",
      "345  17083.900391  2246138895  \n",
      "346  16286.820313  2576055941  \n",
      "347  16467.910156  1773813863  \n",
      "348  17604.849609  2682351213  \n",
      "349  19345.490234  2078806368  \n",
      "350  19065.710938  2264650369  \n",
      "351  18972.320313  2597510049  \n",
      "352  17523.699219  3136709262  \n",
      "353  16461.970703  3791752510  \n",
      "354  15632.120117  2619295475  \n",
      "355  13664.969727  6245731508  \n",
      "356  14396.459961  2491903154  \n",
      "357  13789.950195  2428437693  \n",
      "358  13833.490234  1487888106  \n",
      "359  15756.559570  2198577125  \n",
      "360  15416.639648  2162831128  \n",
      "361  14398.700195  2425912717  \n",
      "362  14392.570313  1733583750  \n",
      "363  12531.519531  2387311023  \n",
      "364  13850.400391  1492142483  \n",
      "\n",
      "[365 rows x 7 columns]\n"
     ]
    }
   ],
   "source": [
    "print bitcoin"
   ]
  },
  {
   "cell_type": "code",
   "execution_count": 34,
   "metadata": {},
   "outputs": [
    {
     "data": {
      "image/png": "[encoded data removed]",
      "text/plain": [
       "<matplotlib.figure.Figure at 0x1128e2a90>"
      ]
     },
     "metadata": {},
     "output_type": "display_data"
    }
   ],
   "source": [
    "#plot the graph when Bitcoin market is Open \n",
    "import matplotlib.pyplot as plt \n",
    "\n",
    "plt.plot_date(bitcoin['Date'],bitcoin['Open'],label='Price')\n",
    "plt.ylabel('Prices')\n",
    "plt.xlabel('Days')\n",
    "plt.title('Value For When The Price Is Open')\n",
    "plt.legend()\n",
    "plt.show()"
   ]
  },
  {
   "cell_type": "code",
   "execution_count": 35,
   "metadata": {},
   "outputs": [
    {
     "data": {
      "image/png": "[encoded data removed]",
      "text/plain": [
       "<matplotlib.figure.Figure at 0x112689ad0>"
      ]
     },
     "metadata": {},
     "output_type": "display_data"
    }
   ],
   "source": [
    "#plot the graph when Bitcoin market is closed\n",
    "import matplotlib.pyplot as plt \n",
    "\n",
    "plt.plot_date(bitcoin['Date'],bitcoin['Close'],label='Price')\n",
    "plt.ylabel('Prices')\n",
    "plt.xlabel('Days')\n",
    "plt.title('Value For When The Price Is Closed')\n",
    "plt.legend()\n",
    "plt.show()"
   ]
  },
  {
   "cell_type": "code",
   "execution_count": 36,
   "metadata": {},
   "outputs": [
    {
     "data": {
      "image/png": "[encoded data removed]",
      "text/plain": [
       "<matplotlib.figure.Figure at 0x112d13a10>"
      ]
     },
     "metadata": {},
     "output_type": "display_data"
    }
   ],
   "source": [
    "#plot the graph when Bitcoin market for when its High \n",
    "import matplotlib.pyplot as plt \n",
    "\n",
    "plt.plot_date(bitcoin['Date'],bitcoin['High'],label='Price')\n",
    "plt.ylabel('Prices')\n",
    "plt.xlabel('Days')\n",
    "plt.title('Value For When The Price Was High On A Certain Day')\n",
    "plt.legend()\n",
    "plt.show()"
   ]
  },
  {
   "cell_type": "code",
   "execution_count": 37,
   "metadata": {},
   "outputs": [
    {
     "data": {
      "image/png": "[encoded data removed]",
      "text/plain": [
       "<matplotlib.figure.Figure at 0x112b8a610>"
      ]
     },
     "metadata": {},
     "output_type": "display_data"
    }
   ],
   "source": [
    "#plot the graph when Bitcoin market for when is at is low \n",
    "import matplotlib.pyplot as plt \n",
    "\n",
    "plt.plot_date(bitcoin['Date'],bitcoin['Low'],label='Price')\n",
    "plt.ylabel('Prices')\n",
    "plt.xlabel('Days')\n",
    "plt.title('Value For When The Price Was Low On A Certain Day')\n",
    "plt.legend()\n",
    "plt.show()"
   ]
  },
  {
   "cell_type": "code",
   "execution_count": 38,
   "metadata": {},
   "outputs": [
    {
     "data": {
      "image/png": "[encoded data removed]",
      "text/plain": [
       "<matplotlib.figure.Figure at 0x112badd90>"
      ]
     },
     "metadata": {},
     "output_type": "display_data"
    }
   ],
   "source": [
    "#plot the graph when Bitcoin market for that day Adjusted Closed\n",
    "import matplotlib.pyplot as plt \n",
    "\n",
    "plt.plot_date(bitcoin['Date'],bitcoin['Adj Close'],label='Price')\n",
    "plt.ylabel('Prices')\n",
    "plt.xlabel('Days')\n",
    "plt.title('Value For The Adjusted Price On A Certain Day')\n",
    "plt.legend()\n",
    "plt.show()"
   ]
  },
  {
   "cell_type": "code",
   "execution_count": 40,
   "metadata": {},
   "outputs": [
    {
     "data": {
      "image/png": "[encoded data removed]",
      "text/plain": [
       "<matplotlib.figure.Figure at 0x112bad8d0>"
      ]
     },
     "metadata": {},
     "output_type": "display_data"
    }
   ],
   "source": [
    "#plot the graph when Bitcoin market for when its volume for that day \n",
    "import matplotlib.pyplot as plt \n",
    "\n",
    "plt.plot_date(bitcoin['Date'],bitcoin['Volume'],label='Bitcoin bought That Day')\n",
    "plt.ylabel('Prices In Millions')\n",
    "plt.xlabel('Days')\n",
    "plt.title('Value For Volume On A Certain Day')\n",
    "plt.legend()\n",
    "plt.show()"
   ]
  },
  {
   "cell_type": "code",
   "execution_count": 15,
   "metadata": {},
   "outputs": [
    {
     "name": "stdout",
     "output_type": "stream",
     "text": [
      "I'm Normalizing the data when the market is Open \n",
      "\n",
      "MinMaxScaler(copy=True, feature_range=(0, 1))\n",
      "19346.599609\n",
      "[0.00958722 0.01131448 0.01247874 0.01335423 0.0188555  0.01098638\n",
      " 0.00542692 0.00557292 0.0062189  0.00616071 0.006408   0.\n",
      " 0.00132966 0.00212271 0.00184256 0.00192552 0.00225794 0.00615424\n",
      " 0.00466566 0.0059145  0.00579058 0.00724146 0.00718759 0.00732874\n",
      " 0.00583584 0.0058714  0.00701087 0.00714287 0.00716981 0.00695646\n",
      " 0.00728941 0.0097009  0.01061356 0.01177404 0.01226162 0.0132761\n",
      " 0.0124281  0.01288928 0.01423025 0.01454973 0.01042661 0.01143139\n",
      " 0.0120084  0.01137267 0.01131017 0.01200948 0.0120014  0.01328042\n",
      " 0.01422217 0.01437679 0.01419415 0.01573877 0.01797301 0.01805005\n",
      " 0.02082197 0.02106872 0.01959036 0.02080418 0.02173354 0.02175725\n",
      " 0.02355617 0.02532383 0.0268232  0.02580063 0.02617238 0.02648432\n",
      " 0.02409654 0.0194783  0.02186823 0.01761527 0.0212158  0.02368816\n",
      " 0.02439286 0.02465955 0.02521393 0.02087422 0.0154236  0.01001823\n",
      " 0.01277775 0.0141198  0.01809477 0.01396948 0.01344743 0.00831144\n",
      " 0.00974454 0.00991371 0.01399212 0.01395333 0.01381756 0.01360259\n",
      " 0.01582228 0.01619995 0.01680767 0.01951009 0.01919815 0.01855702\n",
      " 0.02172654 0.02182298 0.02129985 0.02256916 0.02269684 0.02345272\n",
      " 0.02301041 0.02105309 0.02111397 0.02109565 0.02108542 0.02201262\n",
      " 0.02266344 0.02315425 0.02438747 0.02500974 0.02453833 0.0249828\n",
      " 0.02493108 0.0258001  0.02700261 0.02949599 0.02931873 0.02967755\n",
      " 0.03051963 0.0339623  0.03558505 0.03771961 0.03940107 0.03891673\n",
      " 0.04093816 0.04143165 0.04735908 0.04913861 0.05209155 0.05570016\n",
      " 0.04854005 0.05270735 0.053182   0.04975387 0.05085401 0.05473093\n",
      " 0.0590243  0.06338879 0.06760081 0.06781684 0.07213877 0.08012157\n",
      " 0.08942594 0.08197382 0.07862974 0.06826078 0.0756197  0.08042489\n",
      " 0.07580988 0.0817788  0.08766796 0.09197535 0.09482161 0.09367029\n",
      " 0.10341643 0.11233505 0.10269181 0.10847108 0.1091526  0.11393786\n",
      " 0.11788158 0.10082016 0.10384906 0.09061067 0.08927401 0.09283629\n",
      " 0.10073019 0.09450536 0.09866782 0.10607898 0.10194347 0.10437974\n",
      " 0.10370791 0.09722556 0.09461635 0.08946743 0.09688614 0.09656234\n",
      " 0.09551877 0.09132938 0.08831233 0.09433834 0.09627841 0.09869475\n",
      " 0.09926261 0.09852881 0.09312182 0.09586843 0.09298983 0.08397046\n",
      " 0.08290749 0.08715292 0.08496285 0.07805219 0.06409348 0.06080759\n",
      " 0.07801016 0.08268875 0.08066033 0.11209369 0.10180663 0.11050489\n",
      " 0.10619913 0.10656602 0.09682311 0.09556402 0.10271173 0.10890047\n",
      " 0.10495405 0.10673142 0.11302305 0.10568084 0.10425529 0.10907502\n",
      " 0.11276552 0.13347058 0.13181282 0.14096525 0.14244522 0.13810337\n",
      " 0.14224534 0.15456677 0.16627132 0.17656054 0.19085597 0.18189749\n",
      " 0.19405943 0.18821497 0.17886481 0.18129354 0.17677604 0.17346267\n",
      " 0.17802057 0.18078925 0.1903393  0.19282083 0.19216838 0.1918155\n",
      " 0.19421621 0.20536853 0.20459864 0.21279262 0.22285342 0.20410189\n",
      " 0.20620952 0.18759703 0.19522746 0.20652147 0.20743144 0.1907757\n",
      " 0.19124333 0.18643546 0.18492746 0.18174986 0.16619966 0.13240815\n",
      " 0.15776646 0.15696694 0.15646536 0.17859057 0.16822916 0.16683916\n",
      " 0.15256797 0.15168226 0.16176729 0.15527524 0.16956906 0.16740701\n",
      " 0.18462038 0.18372872 0.18249712 0.19261664 0.19490474 0.19480937\n",
      " 0.19011465 0.18496842 0.19050577 0.19322651 0.19666757 0.20614381\n",
      " 0.2150759  0.21431461 0.21759244 0.25037162 0.26139677 0.27149582\n",
      " 0.26355667 0.2679691  0.25931287 0.25813459 0.26470261 0.28056852\n",
      " 0.281298   0.28001629 0.27574662 0.25470648 0.26660874 0.27488516\n",
      " 0.26825519 0.26621059 0.28889721 0.28763542 0.30513541 0.32068829\n",
      " 0.33615231 0.34273433 0.35441569 0.355803   0.33262128 0.34032338\n",
      " 0.35875594 0.34179742 0.31142271 0.29925055 0.27437171 0.30908721\n",
      " 0.31310689 0.35006361 0.38080845 0.3725261  0.37689381 0.39098884\n",
      " 0.40193804 0.39407484 0.40132546 0.38941242 0.39965263 0.42934741\n",
      " 0.45972264 0.48203858 0.49138121 0.48825694 0.49359228 0.54285586\n",
      " 0.545617   0.56347582 0.58395782 0.58626154 0.69848291 0.86646213\n",
      " 0.82229461 0.75720177 0.76907978 0.8592055  0.87809501 0.83515159\n",
      " 0.84490797 0.90558141 1.         0.98486687 0.97977443 0.9016835\n",
      " 0.84454052 0.79987902 0.69389699 0.73331585 0.70063043 0.70279841\n",
      " 0.80660809 0.78825366 0.73341392 0.73307394 0.63287768]\n"
     ]
    },
    {
     "name": "stderr",
     "output_type": "stream",
     "text": [
      "/Users/Adil/anaconda/lib/python2.7/site-packages/sklearn/preprocessing/data.py:321: DeprecationWarning: Passing 1d arrays as data is deprecated in 0.17 and will raise ValueError in 0.19. Reshape your data either using X.reshape(-1, 1) if your data has a single feature or X.reshape(1, -1) if it contains a single sample.\n",
      "  warnings.warn(DEPRECATION_MSG_1D, DeprecationWarning)\n",
      "/Users/Adil/anaconda/lib/python2.7/site-packages/sklearn/preprocessing/data.py:356: DeprecationWarning: Passing 1d arrays as data is deprecated in 0.17 and will raise ValueError in 0.19. Reshape your data either using X.reshape(-1, 1) if your data has a single feature or X.reshape(1, -1) if it contains a single sample.\n",
      "  warnings.warn(DEPRECATION_MSG_1D, DeprecationWarning)\n"
     ]
    }
   ],
   "source": [
    "#scale the feature with MinMaxScaler so that when you scale it, its in the minimum and maximum\n",
    "#value \n",
    "\n",
    "from sklearn.preprocessing import MinMaxScaler\n",
    "\n",
    "scaler=MinMaxScaler()\n",
    "Bitcoin=bitcoin['Open']\n",
    "print\"I'm Normalizing the data when the market is Open \\n\"\n",
    "print (scaler.fit(Bitcoin))\n",
    "print (scaler.data_max_)\n",
    "normalized_open=scaler.transform(bitcoin['Open'])\n",
    "print normalized_open"
   ]
  },
  {
   "cell_type": "code",
   "execution_count": 46,
   "metadata": {},
   "outputs": [
    {
     "data": {
      "image/png": "[encoded data removed]",
      "text/plain": [
       "<matplotlib.figure.Figure at 0x112bf41d0>"
      ]
     },
     "metadata": {},
     "output_type": "display_data"
    }
   ],
   "source": [
    "plt.plot_date(bitcoin['Date'],normalized_open,label='Normalized Price When Open')\n",
    "plt.ylabel('Normalized Prices')\n",
    "plt.xlabel('Days')\n",
    "plt.title('Normalized Value For Open')\n",
    "plt.legend()\n",
    "plt.show()"
   ]
  },
  {
   "cell_type": "code",
   "execution_count": 16,
   "metadata": {},
   "outputs": [
    {
     "name": "stdout",
     "output_type": "stream",
     "text": [
      "The minimum value is:  0.0\n",
      "The maximum value is:  1.0000000000000002\n",
      "The mean is:  0.1702651226794579\n",
      "The standard deviation is:  0.21286803188316708\n"
     ]
    }
   ],
   "source": [
    "print \"The minimum value is: \",np.min(normalized_open)\n",
    "print \"The maximum value is: \",np.max(normalized_open)\n",
    "print \"The mean is: \",np.mean(normalized_open)\n",
    "print \"The standard deviation is: \",np.std(normalized_open)"
   ]
  },
  {
   "cell_type": "code",
   "execution_count": 17,
   "metadata": {},
   "outputs": [
    {
     "name": "stdout",
     "output_type": "stream",
     "text": [
      "I'm Normalizing the data when the market is Close \n",
      "\n",
      "MinMaxScaler(copy=True, feature_range=(0, 1))\n",
      "19345.490234\n",
      "[0.01131516 0.01247949 0.01335502 0.01885662 0.01098703 0.00542724\n",
      " 0.00557326 0.00621927 0.00616108 0.00640838 0.         0.00132974\n",
      " 0.00212284 0.00184267 0.00192564 0.00225808 0.00615461 0.00466594\n",
      " 0.00591485 0.00579093 0.0072419  0.00718802 0.00732918 0.00583619\n",
      " 0.00587175 0.00701129 0.0071433  0.00717024 0.00695687 0.00728985\n",
      " 0.00970148 0.01061419 0.01177475 0.01226235 0.0132769  0.01242884\n",
      " 0.01289005 0.0142311  0.0145506  0.01042723 0.01143207 0.01200912\n",
      " 0.01137335 0.01131085 0.0120102  0.01200212 0.01328121 0.01422302\n",
      " 0.01437765 0.014195   0.01573972 0.01797408 0.01805113 0.02082321\n",
      " 0.02106997 0.01959153 0.02080543 0.02173484 0.02175855 0.02355758\n",
      " 0.02532535 0.02682481 0.02580218 0.02617394 0.02648591 0.02409798\n",
      " 0.01947946 0.02186954 0.01761632 0.02121706 0.02368958 0.02439431\n",
      " 0.02466102 0.02521544 0.02087547 0.01542452 0.01001883 0.01277851\n",
      " 0.01412064 0.01809585 0.01397032 0.01344823 0.00831194 0.00974512\n",
      " 0.0099143  0.01399295 0.01395416 0.01381838 0.01360341 0.01582322\n",
      " 0.01620092 0.01680868 0.01951125 0.01919929 0.01855813 0.02172784\n",
      " 0.02182428 0.02130112 0.02257051 0.0226982  0.02345413 0.02301178\n",
      " 0.02105435 0.02111523 0.02109691 0.02108668 0.02201394 0.0226648\n",
      " 0.02315563 0.02438893 0.02501123 0.02453979 0.0249843  0.02493257\n",
      " 0.02580164 0.02700422 0.02949775 0.02932049 0.02967932 0.03052145\n",
      " 0.03396433 0.03558717 0.03772186 0.03940343 0.03891906 0.0409406\n",
      " 0.04143413 0.04736191 0.04914154 0.05209466 0.05570349 0.04854295\n",
      " 0.0527105  0.05318518 0.04975685 0.05085705 0.0547342  0.05902783\n",
      " 0.06339257 0.06760485 0.0678209  0.07214308 0.08012636 0.08943128\n",
      " 0.08199273 0.07863444 0.06826486 0.07562422 0.08042969 0.07581441\n",
      " 0.08178368 0.0876732  0.09198085 0.09482728 0.09367588 0.10342262\n",
      " 0.11234177 0.10269794 0.10847756 0.10915913 0.11394467 0.11788862\n",
      " 0.10082618 0.10385527 0.09061609 0.08927934 0.09284184 0.10073621\n",
      " 0.09451101 0.09867371 0.10608532 0.10194957 0.10438598 0.10371411\n",
      " 0.09723137 0.09462201 0.08947277 0.09689193 0.09656811 0.09552448\n",
      " 0.09133484 0.08831761 0.09434398 0.09628417 0.09870065 0.09926854\n",
      " 0.0985347  0.09312739 0.09587416 0.09299538 0.08397548 0.08291245\n",
      " 0.08715813 0.08496793 0.07805685 0.06409731 0.06081122 0.07801483\n",
      " 0.0826937  0.08066515 0.11210039 0.10181271 0.1105115  0.10620548\n",
      " 0.10657239 0.09682889 0.09556973 0.10271787 0.10890697 0.10496033\n",
      " 0.1067378  0.11302981 0.10568716 0.10426152 0.10908154 0.11277226\n",
      " 0.13347856 0.13182069 0.14097368 0.14245373 0.13811162 0.14225384\n",
      " 0.15457601 0.16628126 0.17657109 0.19086737 0.18190836 0.19407102\n",
      " 0.18822622 0.1788755  0.18130438 0.17678661 0.17347304 0.17803121\n",
      " 0.18080005 0.19035068 0.19283236 0.19217986 0.19182696 0.19422782\n",
      " 0.2053808  0.20461087 0.21280534 0.22286674 0.20411409 0.20622185\n",
      " 0.18760824 0.19523913 0.20653381 0.20744384 0.19078711 0.19125476\n",
      " 0.1864466  0.18493851 0.18176072 0.16620959 0.13241606 0.15777589\n",
      " 0.15697632 0.15647471 0.17860124 0.16823922 0.16684913 0.15257709\n",
      " 0.15169132 0.16177695 0.15528452 0.1695792  0.16741702 0.18463142\n",
      " 0.1837397  0.18250803 0.19262815 0.19491639 0.19482102 0.19012601\n",
      " 0.18497947 0.19051716 0.19323806 0.19667932 0.20615613 0.21508875\n",
      " 0.21432742 0.21760545 0.25038659 0.26141239 0.27151205 0.26415378\n",
      " 0.26798944 0.25932837 0.25810262 0.26472004 0.28058529 0.28131481\n",
      " 0.28003303 0.27576311 0.2547217  0.26662467 0.27490104 0.26827122\n",
      " 0.2662265  0.28890477 0.28765261 0.30526896 0.32070746 0.3361724\n",
      " 0.34303176 0.35443688 0.35582427 0.33263901 0.34037174 0.35877738\n",
      " 0.34181785 0.31144133 0.29926788 0.27439027 0.30910569 0.3131256\n",
      " 0.35009532 0.38083121 0.37254837 0.37691042 0.39101221 0.4018985\n",
      " 0.3941011  0.40135214 0.38943732 0.39953371 0.42937686 0.45975012\n",
      " 0.48209812 0.49141058 0.48773712 0.49360453 0.54288831 0.54565019\n",
      " 0.56361778 0.58396794 0.58629658 0.69849667 0.86556188 0.82231308\n",
      " 0.75743234 0.76907992 0.85921277 0.87814749 0.83520151 0.84495847\n",
      " 0.90621579 1.         0.98492573 0.97989393 0.90184348 0.84463846\n",
      " 0.79992683 0.69393847 0.73335053 0.70067231 0.70301821 0.80663152\n",
      " 0.78831693 0.73347123 0.73314096 0.63286915 0.70392931]\n"
     ]
    },
    {
     "name": "stderr",
     "output_type": "stream",
     "text": [
      "/Users/Adil/anaconda/lib/python2.7/site-packages/sklearn/preprocessing/data.py:321: DeprecationWarning: Passing 1d arrays as data is deprecated in 0.17 and will raise ValueError in 0.19. Reshape your data either using X.reshape(-1, 1) if your data has a single feature or X.reshape(1, -1) if it contains a single sample.\n",
      "  warnings.warn(DEPRECATION_MSG_1D, DeprecationWarning)\n",
      "/Users/Adil/anaconda/lib/python2.7/site-packages/sklearn/preprocessing/data.py:356: DeprecationWarning: Passing 1d arrays as data is deprecated in 0.17 and will raise ValueError in 0.19. Reshape your data either using X.reshape(-1, 1) if your data has a single feature or X.reshape(1, -1) if it contains a single sample.\n",
      "  warnings.warn(DEPRECATION_MSG_1D, DeprecationWarning)\n"
     ]
    }
   ],
   "source": [
    "#scale the feature with MinMaxScaler so that when you scale it, its in the minimum and maximum\n",
    "#value \n",
    "\n",
    "from sklearn.preprocessing import MinMaxScaler\n",
    "\n",
    "scaler=MinMaxScaler()\n",
    "Bitcoin_Close=bitcoin['Close']\n",
    "print\"I'm Normalizing the data when the market is Close \\n\"\n",
    "print (scaler.fit(Bitcoin_Close))\n",
    "print (scaler.data_max_)\n",
    "normalized_close=scaler.transform(bitcoin['Close'])\n",
    "print normalized_close"
   ]
  },
  {
   "cell_type": "code",
   "execution_count": 45,
   "metadata": {},
   "outputs": [
    {
     "data": {
      "image/png": "[encoded data removed]",
      "text/plain": [
       "<matplotlib.figure.Figure at 0x11297f310>"
      ]
     },
     "metadata": {},
     "output_type": "display_data"
    }
   ],
   "source": [
    "plt.plot_date(bitcoin['Date'],normalized_close,label='Normalized Value When Closed ')\n",
    "plt.ylabel('Normalized Prices')\n",
    "plt.xlabel('Days')\n",
    "plt.title('Normalized Value For Close')\n",
    "plt.legend()\n",
    "plt.show()"
   ]
  },
  {
   "cell_type": "code",
   "execution_count": 19,
   "metadata": {},
   "outputs": [
    {
     "name": "stdout",
     "output_type": "stream",
     "text": [
      "The minimum value is:  0.0\n",
      "The maximum value is:  1.0\n",
      "The mean is:  0.17217840303499946\n",
      "The standard deviation is:  0.21453107429000118\n"
     ]
    }
   ],
   "source": [
    "print \"The minimum value is: \",np.min(normalized_close)\n",
    "print \"The maximum value is: \",np.max(normalized_close)\n",
    "print \"The mean is: \",np.mean(normalized_close)\n",
    "print \"The standard deviation is: \",np.std(normalized_close)"
   ]
  },
  {
   "cell_type": "code",
   "execution_count": 19,
   "metadata": {},
   "outputs": [
    {
     "name": "stdout",
     "output_type": "stream",
     "text": [
      "I'm Normalizing the data for the Volume \n",
      "\n",
      "MinMaxScaler(copy=True, feature_range=(0, 1))\n",
      "6245731508.0\n",
      "[4.86832981e-03 8.95253814e-03 7.35648720e-03 2.57188380e-02\n",
      " 3.76271792e-02 2.70941922e-02 1.64899175e-02 9.63576407e-03\n",
      " 7.33682740e-03 6.16303943e-03 2.40524944e-02 1.34347050e-02\n",
      " 9.99780862e-03 4.23062168e-03 1.57009704e-03 2.78702321e-03\n",
      " 9.95239971e-03 8.15137267e-03 6.74947162e-03 3.95039601e-03\n",
      " 4.31637142e-03 5.43017207e-03 3.21491956e-03 6.93680124e-03\n",
      " 3.81692448e-03 3.30065920e-03 2.93300068e-03 4.87124954e-04\n",
      " 0.00000000e+00 1.18511486e-03 6.68025555e-03 5.42400049e-03\n",
      " 6.48214753e-03 8.37406871e-03 4.84196793e-03 3.44086746e-03\n",
      " 3.62664098e-03 4.98819589e-03 9.32111174e-03 2.17503931e-02\n",
      " 8.08669784e-03 2.93321734e-03 7.39418222e-04 3.61969914e-03\n",
      " 4.74631171e-03 2.14179204e-03 4.63480003e-03 6.03013209e-03\n",
      " 2.66892908e-03 1.38922126e-03 3.64770900e-03 8.45065450e-03\n",
      " 6.96543431e-03 1.04961301e-02 1.87255747e-02 6.86221544e-03\n",
      " 4.09523211e-03 5.10318507e-03 8.04383981e-03 8.29929432e-03\n",
      " 1.40848416e-02 1.21340207e-02 6.15563475e-03 3.51063168e-03\n",
      " 4.71119577e-03 1.57901110e-02 1.70200166e-02 9.65640726e-03\n",
      " 3.42588543e-02 1.15744738e-02 6.93244731e-03 1.02897528e-02\n",
      " 7.35211659e-03 7.10002555e-03 2.39265890e-02 2.78510019e-02\n",
      " 3.24845049e-02 1.57026060e-02 8.59892994e-03 1.45677781e-02\n",
      " 1.77236501e-02 7.80749566e-03 1.92170905e-02 1.73491121e-02\n",
      " 1.17138023e-02 1.31693733e-02 1.17637690e-02 9.79023321e-03\n",
      " 1.08121770e-02 1.38448103e-02 7.18556440e-03 1.08474668e-02\n",
      " 1.63028080e-02 1.13783227e-02 1.09247082e-02 1.57112534e-02\n",
      " 9.77787658e-03 4.67942503e-03 7.10189131e-03 6.13570794e-03\n",
      " 5.66903084e-03 7.13413611e-03 1.09440889e-02 7.36349640e-03\n",
      " 3.79490080e-03 1.97650808e-03 7.35804873e-03 8.77005865e-03\n",
      " 6.86711111e-03 9.46336778e-03 6.78114213e-03 7.30694231e-03\n",
      " 7.05795302e-03 6.26528003e-03 7.44840355e-03 1.08147152e-02\n",
      " 1.17240104e-02 1.51265895e-02 7.33990445e-03 7.25776483e-03\n",
      " 2.15218188e-02 1.49350686e-02 1.80157213e-02 3.25346842e-02\n",
      " 2.85142995e-02 1.32359218e-02 1.62767100e-02 2.63768822e-02\n",
      " 3.35104713e-02 2.34125300e-02 3.02484543e-02 2.91788958e-02\n",
      " 1.89520331e-02 1.00488875e-02 2.05732386e-02 1.92710302e-02\n",
      " 2.57781003e-02 2.01567142e-02 2.90769080e-02 2.71240616e-02\n",
      " 2.41876397e-02 5.82578990e-02 3.87705955e-02 5.50908055e-02\n",
      " 9.81353508e-02 6.91407518e-02 6.98931021e-02 4.11436200e-02\n",
      " 3.10940061e-02 4.16733323e-02 4.02546672e-02 4.48809709e-02\n",
      " 3.03986020e-02 2.67747202e-02 2.22670292e-02 3.45436496e-02\n",
      " 8.47657208e-02 5.29411639e-02 4.02026379e-02 2.87101676e-02\n",
      " 3.79527966e-02 3.70943238e-02 9.22047888e-02 4.87949758e-02\n",
      " 7.02555861e-02 9.55895052e-02 4.43293448e-02 3.79253585e-02\n",
      " 3.60876128e-02 3.20997245e-02 4.64788462e-02 4.85958656e-02\n",
      " 3.20910692e-02 2.32681657e-02 3.49278038e-02 3.37525761e-02\n",
      " 6.28172062e-02 5.95464214e-02 4.32326740e-02 2.91105175e-02\n",
      " 2.78508557e-02 2.41274784e-02 2.49578653e-02 3.23999724e-02\n",
      " 3.21094893e-02 3.56093541e-02 2.34693671e-02 3.51139859e-02\n",
      " 2.03285498e-02 1.43199270e-02 4.60356257e-02 5.32087789e-02\n",
      " 3.95926924e-02 3.18202721e-02 3.96903993e-02 4.97961470e-02\n",
      " 5.67833405e-02 5.74374377e-02 7.29700156e-02 5.57170822e-02\n",
      " 1.27848662e-01 8.32233172e-02 5.32078550e-02 4.64524250e-02\n",
      " 3.50946028e-02 8.41230968e-02 5.29628672e-02 4.16431361e-02\n",
      " 5.98611821e-02 3.53787057e-02 3.41141149e-02 3.92304644e-02\n",
      " 5.30833374e-02 3.40500990e-02 2.85946960e-02 2.97627152e-02\n",
      " 7.91471246e-02 2.98724426e-02 4.55146335e-02 5.70850906e-02\n",
      " 5.03317216e-02 3.71757605e-02 5.37118440e-02 7.36615659e-02\n",
      " 1.00826141e-01 8.51113672e-02 1.38340781e-01 7.42113213e-02\n",
      " 8.72451189e-02 9.52100577e-02 7.25695677e-02 4.45799557e-02\n",
      " 5.69254593e-02 1.04152303e-01 6.28858651e-02 4.73351452e-02\n",
      " 5.64618581e-02 3.03406357e-02 2.80596575e-02 5.05285012e-02\n",
      " 7.14060233e-02 4.86330200e-02 5.27248614e-02 7.71268822e-02\n",
      " 1.18273983e-01 7.37583454e-02 1.16590441e-01 1.06427814e-01\n",
      " 7.93042286e-02 5.04730397e-02 1.24545483e-01 5.16365966e-02\n",
      " 7.07287011e-02 5.85420181e-02 7.10747528e-02 1.15174226e-01\n",
      " 1.77698897e-01 2.41991089e-01 9.90045948e-02 5.46925152e-02\n",
      " 9.24902105e-02 7.67672432e-02 5.32792544e-02 8.55351343e-02\n",
      " 6.48539847e-02 3.89953873e-02 2.78465704e-02 6.03735961e-02\n",
      " 3.82113455e-02 7.53978049e-02 6.04112154e-02 6.32482245e-02\n",
      " 4.49974821e-02 4.04570751e-02 4.88183341e-02 5.49804742e-02\n",
      " 4.20511012e-02 4.19693482e-02 4.16427140e-02 2.66405604e-02\n",
      " 5.01721950e-02 8.15285162e-02 7.46535278e-02 5.26530730e-02\n",
      " 1.34459995e-01 1.92647177e-01 6.80283193e-02 8.99607578e-02\n",
      " 5.43564060e-02 5.74842323e-02 1.03360816e-01 7.37004134e-02\n",
      " 1.15351067e-01 1.08214809e-01 9.76147951e-02 1.26843360e-01\n",
      " 1.28575825e-01 9.22977194e-02 8.61917581e-02 7.66687582e-02\n",
      " 4.73732596e-02 1.53439790e-01 7.55969591e-02 1.00653143e-01\n",
      " 1.37852921e-01 2.65087183e-01 1.78134968e-01 1.22388788e-01\n",
      " 1.24941263e-01 1.82488652e-01 1.13316029e-01 2.60176191e-01\n",
      " 1.45256527e-01 2.41071729e-01 1.39183732e-01 2.59633801e-01\n",
      " 1.80424758e-01 1.00134537e-01 1.46378412e-01 1.60358214e-01\n",
      " 1.45518894e-01 8.99535244e-02 8.51857097e-02 9.73680205e-02\n",
      " 1.48845881e-01 8.49140488e-02 8.74427519e-02 9.38969493e-02\n",
      " 1.13586298e-01 1.23852696e-01 1.62770982e-01 1.37136059e-01\n",
      " 3.86267560e-01 2.92837899e-01 2.15452095e-01 1.50791001e-01\n",
      " 2.19676679e-01 1.68012506e-01 1.66565966e-01 3.89193610e-01\n",
      " 7.21674056e-01 7.27413663e-01 4.31345434e-01 4.64087168e-01\n",
      " 4.20823673e-01 3.58578844e-01 4.11488176e-01 2.82831312e-01\n",
      " 4.28534921e-01 3.31743455e-01 3.61547559e-01 4.14928806e-01\n",
      " 5.01401058e-01 6.06451407e-01 4.18422570e-01 1.00000000e+00\n",
      " 3.97992457e-01 3.87814398e-01 2.36976935e-01 3.50951286e-01\n",
      " 3.45218642e-01 3.87409463e-01 2.76379544e-01 3.81218847e-01\n",
      " 2.37659216e-01]\n"
     ]
    },
    {
     "name": "stderr",
     "output_type": "stream",
     "text": [
      "/Users/Adil/anaconda/lib/python2.7/site-packages/sklearn/utils/validation.py:429: DataConversionWarning: Data with input dtype int64 was converted to float64 by MinMaxScaler.\n",
      "  warnings.warn(msg, _DataConversionWarning)\n",
      "/Users/Adil/anaconda/lib/python2.7/site-packages/sklearn/preprocessing/data.py:321: DeprecationWarning: Passing 1d arrays as data is deprecated in 0.17 and will raise ValueError in 0.19. Reshape your data either using X.reshape(-1, 1) if your data has a single feature or X.reshape(1, -1) if it contains a single sample.\n",
      "  warnings.warn(DEPRECATION_MSG_1D, DeprecationWarning)\n",
      "/Users/Adil/anaconda/lib/python2.7/site-packages/sklearn/preprocessing/data.py:356: DeprecationWarning: Passing 1d arrays as data is deprecated in 0.17 and will raise ValueError in 0.19. Reshape your data either using X.reshape(-1, 1) if your data has a single feature or X.reshape(1, -1) if it contains a single sample.\n",
      "  warnings.warn(DEPRECATION_MSG_1D, DeprecationWarning)\n"
     ]
    }
   ],
   "source": [
    "#scale the feature with MinMaxScaler so that when you scale it, its in the minimum and maximum\n",
    "#value \n",
    "\n",
    "from sklearn.preprocessing import MinMaxScaler\n",
    "\n",
    "scaler=MinMaxScaler()\n",
    "Bitcoin_Volume=bitcoin['Volume']\n",
    "print\"I'm Normalizing the data for the Volume \\n\"\n",
    "print (scaler.fit(Bitcoin_Volume))\n",
    "print (scaler.data_max_)\n",
    "normalized_volume=scaler.transform(bitcoin['Volume'])\n",
    "print (normalized_volume)"
   ]
  },
  {
   "cell_type": "code",
   "execution_count": 47,
   "metadata": {},
   "outputs": [
    {
     "data": {
      "image/png": "[encoded data removed]",
      "text/plain": [
       "<matplotlib.figure.Figure at 0x11352e550>"
      ]
     },
     "metadata": {},
     "output_type": "display_data"
    }
   ],
   "source": [
    "plt.plot_date(bitcoin['Date'],normalized_volume,label='Normalized Volume')\n",
    "plt.title('Normalized For the Volume')\n",
    "plt.ylabel('Normalized Volume')\n",
    "plt.xlabel('Days')\n",
    "plt.legend()\n",
    "plt.show()"
   ]
  },
  {
   "cell_type": "code",
   "execution_count": 21,
   "metadata": {
    "scrolled": true
   },
   "outputs": [
    {
     "name": "stdout",
     "output_type": "stream",
     "text": [
      "The minimum value is:  0.0\n",
      "The maximum value is:  1.0\n",
      "The mean is:  0.07897156298525117\n",
      "The standard deviation is:  0.12006472992029554\n"
     ]
    }
   ],
   "source": [
    "print \"The minimum value is: \",np.min(normalized_volume)\n",
    "print \"The maximum value is: \",np.max(normalized_volume)\n",
    "print \"The mean is: \",np.mean(normalized_volume)\n",
    "print \"The standard deviation is: \",np.std(normalized_volume)"
   ]
  },
  {
   "cell_type": "code",
   "execution_count": 21,
   "metadata": {},
   "outputs": [
    {
     "name": "stdout",
     "output_type": "stream",
     "text": [
      "I'm Normalizing the data for the High \n",
      "\n",
      "MinMaxScaler(copy=True, feature_range=(0, 1))\n",
      "19870.619141\n",
      "[9.19860597e-03 1.07775689e-02 1.09765754e-02 1.69138231e-02\n",
      " 1.70235661e-02 1.05538781e-02 3.90827834e-03 5.76028788e-03\n",
      " 4.41289347e-03 4.45752840e-03 4.78991415e-03 9.34683533e-05\n",
      " 4.52631243e-04 6.54794536e-04 0.00000000e+00 5.37170678e-04\n",
      " 4.19813159e-03 4.58092436e-03 4.14037245e-03 3.94135956e-03\n",
      " 5.38221917e-03 5.87843416e-03 5.33233451e-03 5.20788736e-03\n",
      " 4.16242552e-03 4.87760404e-03 5.04773421e-03 5.01255376e-03\n",
      " 5.03933406e-03 5.03670607e-03 7.40488439e-03 8.40886492e-03\n",
      " 9.59347813e-03 1.03595893e-02 1.12690566e-02 1.08815366e-02\n",
      " 1.07208546e-02 1.19548268e-02 1.27492951e-02 1.29488336e-02\n",
      " 9.40811822e-03 9.86600230e-03 9.52469084e-03 9.51366270e-03\n",
      " 9.83869639e-03 9.68799451e-03 1.12291489e-02 1.21275850e-02\n",
      " 1.24331872e-02 1.20797995e-02 1.34082913e-02 1.55743064e-02\n",
      " 1.60584420e-02 1.86497824e-02 2.02324181e-02 1.85662941e-02\n",
      " 1.84329181e-02 1.93964652e-02 2.00475838e-02 2.09307964e-02\n",
      " 2.41832290e-02 2.44126951e-02 2.41202202e-02 2.34638520e-02\n",
      " 2.38487440e-02 2.38634482e-02 2.18234572e-02 1.99819470e-02\n",
      " 2.64642431e-02 1.97572049e-02 2.14779408e-02 2.20119643e-02\n",
      " 2.25312836e-02 2.26063685e-02 2.27791267e-02 1.82979715e-02\n",
      " 1.45545704e-02 1.24573459e-02 1.21333602e-02 1.57055800e-02\n",
      " 1.55139192e-02 1.24111373e-02 1.11293797e-02 8.90192949e-03\n",
      " 9.34090775e-03 1.16791522e-02 1.27062402e-02 1.21942730e-02\n",
      " 1.18792162e-02 1.37453979e-02 1.45613969e-02 1.48628007e-02\n",
      " 1.74037340e-02 1.75780625e-02 1.66670248e-02 1.96973498e-02\n",
      " 1.96805432e-02 1.95224893e-02 2.04088491e-02 2.03967729e-02\n",
      " 2.11686594e-02 2.09528463e-02 2.05957858e-02 1.93744154e-02\n",
      " 1.93455327e-02 1.89842673e-02 1.97719092e-02 2.03447891e-02\n",
      " 2.05721527e-02 2.20649994e-02 2.26074198e-02 2.26074198e-02\n",
      " 2.25685632e-02 2.25753897e-02 2.34291940e-02 2.53499876e-02\n",
      " 2.73238226e-02 2.78153103e-02 2.71610382e-02 2.79618073e-02\n",
      " 3.26740118e-02 3.38533721e-02 3.51792359e-02 4.11364310e-02\n",
      " 3.99954015e-02 3.85414178e-02 3.91962092e-02 4.41730569e-02\n",
      " 4.88842037e-02 4.93457639e-02 5.45221437e-02 5.23036192e-02\n",
      " 4.95726019e-02 5.12660318e-02 4.98955363e-02 4.86300597e-02\n",
      " 5.33706085e-02 6.05990619e-02 6.00324828e-02 6.41676024e-02\n",
      " 6.66087665e-02 7.55259258e-02 7.66569815e-02 8.77196700e-02\n",
      " 1.02673314e-01 9.39966524e-02 7.85510012e-02 7.74036645e-02\n",
      " 7.93375918e-02 7.89127857e-02 7.89842042e-02 8.58219839e-02\n",
      " 8.75616160e-02 9.22244583e-02 9.10177920e-02 9.86626354e-02\n",
      " 1.10522427e-01 1.07881724e-01 1.04072686e-01 1.06365257e-01\n",
      " 1.09627138e-01 1.12970424e-01 1.13348489e-01 1.02831368e-01\n",
      " 1.03826420e-01 8.90124590e-02 8.97906398e-02 9.78923258e-02\n",
      " 9.71220162e-02 9.40612379e-02 1.03656290e-01 1.03862648e-01\n",
      " 1.01389986e-01 1.01512850e-01 1.00562437e-01 9.63144141e-02\n",
      " 9.23284259e-02 9.23447070e-02 9.40192278e-02 9.34369061e-02\n",
      " 9.18836724e-02 8.94335858e-02 9.07841275e-02 9.40470593e-02\n",
      " 9.62130744e-02 9.53734487e-02 9.49586292e-02 9.40470593e-02\n",
      " 9.14872234e-02 9.19072990e-02 8.94713911e-02 8.32967996e-02\n",
      " 8.39305923e-02 8.45522961e-02 8.10798519e-02 7.40750829e-02\n",
      " 6.39554686e-02 7.39018119e-02 8.26661605e-02 8.32773650e-02\n",
      " 1.10604870e-01 1.07514683e-01 1.07659084e-01 1.06606793e-01\n",
      " 1.03572795e-01 1.02532592e-01 9.47953191e-02 9.90585587e-02\n",
      " 1.05929952e-01 1.04268020e-01 1.02216485e-01 1.09737938e-01\n",
      " 1.11298518e-01 1.02255341e-01 1.04832496e-01 1.08497133e-01\n",
      " 1.32196756e-01 1.29626946e-01 1.36456316e-01 1.40118338e-01\n",
      " 1.37087481e-01 1.37963873e-01 1.51229856e-01 1.64923274e-01\n",
      " 1.76588770e-01 1.84322889e-01 1.89561759e-01 1.87544350e-01\n",
      " 1.92240792e-01 1.85689186e-01 1.76602435e-01 1.76214383e-01\n",
      " 1.71748977e-01 1.74134491e-01 1.80064906e-01 1.85761643e-01\n",
      " 1.90886571e-01 1.86558208e-01 1.88075751e-01 1.87810563e-01\n",
      " 2.00659637e-01 2.00461676e-01 2.06815832e-01 2.15225755e-01\n",
      " 2.17918967e-01 2.04437677e-01 1.99251317e-01 1.92722300e-01\n",
      " 2.01300776e-01 2.02902827e-01 2.03377514e-01 1.87759105e-01\n",
      " 1.84394833e-01 1.85777924e-01 1.87003487e-01 1.75809537e-01\n",
      " 1.63002999e-01 1.57423344e-01 1.61059098e-01 1.55959912e-01\n",
      " 1.73087968e-01 1.72980847e-01 1.69427536e-01 1.62063085e-01\n",
      " 1.53699377e-01 1.56843638e-01 1.55662175e-01 1.65145913e-01\n",
      " 1.65713543e-01 1.78843010e-01 1.81063637e-01 1.79113941e-01\n",
      " 1.86767733e-01 1.88308890e-01 1.91709390e-01 1.89536042e-01\n",
      " 1.85298519e-01 1.85848279e-01 1.88809294e-01 1.91475200e-01\n",
      " 1.99349003e-01 2.12608154e-01 2.15476226e-01 2.12582437e-01\n",
      " 2.41869048e-01 2.63930890e-01 2.63239883e-01 2.64451267e-01\n",
      " 2.60914237e-01 2.59758491e-01 2.50725813e-01 2.57872894e-01\n",
      " 2.75616346e-01 2.81491124e-01 2.75366414e-01 2.74233255e-01\n",
      " 2.66653510e-01 2.58426858e-01 2.70107058e-01 2.71547402e-01\n",
      " 2.64889726e-01 2.87174221e-01 2.83537941e-01 2.96193771e-01\n",
      " 3.10452191e-01 3.42019296e-01 3.47570068e-01 3.50018065e-01\n",
      " 3.55647064e-01 3.46734122e-01 3.35847332e-01 3.69806772e-01\n",
      " 3.48173927e-01 3.40919751e-01 3.14797861e-01 2.97418795e-01\n",
      " 3.11576401e-01 3.09919199e-01 3.41502073e-01 3.74823527e-01\n",
      " 3.76690228e-01 3.69198708e-01 3.81976889e-01 3.92124341e-01\n",
      " 3.96022656e-01 3.92662563e-01 3.90676639e-01 3.94162775e-01\n",
      " 4.16691434e-01 4.54111753e-01 4.67711189e-01 4.80101831e-01\n",
      " 5.56149163e-01 5.17881308e-01 5.31205069e-01 5.43409877e-01\n",
      " 5.78898884e-01 5.67007595e-01 5.81565329e-01 6.83503514e-01\n",
      " 8.42925348e-01 8.64747745e-01 8.13200792e-01 7.85371857e-01\n",
      " 8.70226060e-01 8.78704799e-01 8.63335835e-01 8.46171499e-01\n",
      " 9.01093723e-01 9.85144029e-01 1.00000000e+00 9.65894083e-01\n",
      " 9.55437933e-01 8.91987025e-01 8.65114285e-01 7.87499516e-01\n",
      " 7.70145705e-01 7.13461184e-01 7.16281465e-01 8.01726963e-01\n",
      " 8.23776729e-01 7.70790484e-01 7.50012482e-01 7.15967997e-01\n",
      " 7.04434839e-01]\n"
     ]
    },
    {
     "name": "stderr",
     "output_type": "stream",
     "text": [
      "/Users/Adil/anaconda/lib/python2.7/site-packages/sklearn/preprocessing/data.py:321: DeprecationWarning: Passing 1d arrays as data is deprecated in 0.17 and will raise ValueError in 0.19. Reshape your data either using X.reshape(-1, 1) if your data has a single feature or X.reshape(1, -1) if it contains a single sample.\n",
      "  warnings.warn(DEPRECATION_MSG_1D, DeprecationWarning)\n",
      "/Users/Adil/anaconda/lib/python2.7/site-packages/sklearn/preprocessing/data.py:356: DeprecationWarning: Passing 1d arrays as data is deprecated in 0.17 and will raise ValueError in 0.19. Reshape your data either using X.reshape(-1, 1) if your data has a single feature or X.reshape(1, -1) if it contains a single sample.\n",
      "  warnings.warn(DEPRECATION_MSG_1D, DeprecationWarning)\n"
     ]
    }
   ],
   "source": [
    "#scale the feature with MinMaxScaler so that when you scale it, its in the minimum and maximum\n",
    "#value \n",
    "\n",
    "from sklearn.preprocessing import MinMaxScaler\n",
    "\n",
    "scaler=MinMaxScaler()\n",
    "Bitcoin_High=bitcoin['High']\n",
    "print\"I'm Normalizing the data for the High \\n\"\n",
    "print (scaler.fit(Bitcoin_High))\n",
    "print (scaler.data_max_)\n",
    "normalized_High=scaler.transform(bitcoin['High'])\n",
    "print (normalized_High)"
   ]
  },
  {
   "cell_type": "code",
   "execution_count": 49,
   "metadata": {},
   "outputs": [
    {
     "data": {
      "image/png": "[encoded data removed]",
      "text/plain": [
       "<matplotlib.figure.Figure at 0x112cdd7d0>"
      ]
     },
     "metadata": {},
     "output_type": "display_data"
    }
   ],
   "source": [
    "plt.plot_date(bitcoin['Date'],normalized_High,label='Normalized High' )\n",
    "plt.ylabel('Normalized Prices')\n",
    "plt.xlabel('Days')\n",
    "plt.title('Normalized Value For High')\n",
    "plt.legend()\n",
    "plt.show()"
   ]
  },
  {
   "cell_type": "code",
   "execution_count": 23,
   "metadata": {},
   "outputs": [
    {
     "name": "stdout",
     "output_type": "stream",
     "text": [
      "The minimum value is:  0.0\n",
      "The maximum value is:  1.0000000000000002\n",
      "The mean is:  0.17317525317638352\n",
      "The standard deviation is:  0.2194981758500852\n"
     ]
    }
   ],
   "source": [
    "print \"The minimum value is: \",np.min(normalized_High)\n",
    "print \"The maximum value is: \",np.max(normalized_High)\n",
    "print \"The mean is: \",np.mean(normalized_High)\n",
    "print \"The standard deviation is: \",np.std(normalized_High)"
   ]
  },
  {
   "cell_type": "code",
   "execution_count": 25,
   "metadata": {},
   "outputs": [
    {
     "name": "stdout",
     "output_type": "stream",
     "text": [
      "I'm Normalizing the data for the Low \n",
      "\n",
      "MinMaxScaler(copy=True, feature_range=(0, 1))\n",
      "18750.910156\n",
      "[1.20229669e-02 1.39162185e-02 1.48228695e-02 1.56995372e-02\n",
      " 7.49416145e-03 6.27381824e-03 3.72598096e-03 7.56744559e-03\n",
      " 7.29317407e-03 8.35972440e-03 6.70688770e-04 0.00000000e+00\n",
      " 1.74612088e-03 3.81537160e-03 3.83535815e-03 4.33892961e-03\n",
      " 4.74644831e-03 5.90294159e-03 7.28207269e-03 7.73678582e-03\n",
      " 8.32308235e-03 8.27644362e-03 9.51066363e-03 8.30587111e-03\n",
      " 7.99939681e-03 8.54682826e-03 9.34798890e-03 9.62115228e-03\n",
      " 9.61226711e-03 9.54730905e-03 9.87321420e-03 1.22295050e-02\n",
      " 1.29890252e-02 1.38612538e-02 1.44830808e-02 1.46851763e-02\n",
      " 1.50616070e-02 1.55635113e-02 1.55890519e-02 1.02768494e-02\n",
      " 1.15188431e-02 1.35681038e-02 1.40411397e-02 1.30778567e-02\n",
      " 1.37085724e-02 1.44453273e-02 1.48706164e-02 1.58966344e-02\n",
      " 1.69409785e-02 1.65517792e-02 1.67361043e-02 1.85432998e-02\n",
      " 1.97253269e-02 2.07641204e-02 1.95909716e-02 2.09123558e-02\n",
      " 2.17118526e-02 2.35806751e-02 2.42180495e-02 2.30410173e-02\n",
      " 2.62284452e-02 2.83848669e-02 2.71595253e-02 2.79018344e-02\n",
      " 2.89511734e-02 2.27140006e-02 2.20599673e-02 2.16418962e-02\n",
      " 1.38323820e-02 2.02777601e-02 2.33935712e-02 2.58758913e-02\n",
      " 2.65848893e-02 2.75870374e-02 2.10650373e-02 1.79847601e-02\n",
      " 1.11390813e-02 1.26453531e-02 1.47406968e-02 1.68960036e-02\n",
      " 1.43370650e-02 1.56828818e-02 1.04267521e-02 8.37693564e-03\n",
      " 1.14983007e-02 1.23394346e-02 1.53181115e-02 1.49233615e-02\n",
      " 1.56223629e-02 1.64135336e-02 1.82062865e-02 1.85804942e-02\n",
      " 1.97653069e-02 2.12421512e-02 2.05709101e-02 2.17063019e-02\n",
      " 2.40753648e-02 2.37128141e-02 2.41203328e-02 2.52762738e-02\n",
      " 2.53290156e-02 2.59730522e-02 2.28044993e-02 2.34635276e-02\n",
      " 5.66198444e-03 2.37178091e-02 2.40548225e-02 2.50725111e-02\n",
      " 2.52357381e-02 2.61568283e-02 2.75387348e-02 2.64405373e-02\n",
      " 2.68447284e-02 2.74998663e-02 2.80189818e-02 2.90622145e-02\n",
      " 3.03003247e-02 3.04291293e-02 3.19020902e-02 3.16528036e-02\n",
      " 3.34916428e-02 3.63814816e-02 3.80037962e-02 3.87288906e-02\n",
      " 4.13883246e-02 4.24387752e-02 4.19529707e-02 4.51553902e-02\n",
      " 4.88813712e-02 5.13809059e-02 5.56310041e-02 5.00589660e-02\n",
      " 4.74722603e-02 5.53306362e-02 5.09267519e-02 5.07551886e-02\n",
      " 5.35450945e-02 5.83837088e-02 6.30563173e-02 6.68938950e-02\n",
      " 6.88743075e-02 6.99036600e-02 7.61313986e-02 8.45988330e-02\n",
      " 8.16667913e-02 7.28373621e-02 6.26832211e-02 7.28162708e-02\n",
      " 7.64956165e-02 7.81479076e-02 7.93288300e-02 8.68224324e-02\n",
      " 9.13889948e-02 9.49622875e-02 9.65296306e-02 9.90691384e-02\n",
      " 1.08827425e-01 1.04767772e-01 1.04603989e-01 1.13623850e-01\n",
      " 1.14805884e-01 1.18131001e-01 9.68322147e-02 1.05927034e-01\n",
      " 8.93569385e-02 7.69519935e-02 8.85957544e-02 9.52321232e-02\n",
      " 9.71076078e-02 9.87837689e-02 1.04069319e-01 1.04645074e-01\n",
      " 1.04579550e-01 1.08816323e-01 9.99813503e-02 9.62070667e-02\n",
      " 8.81504788e-02 8.71716450e-02 9.71920001e-02 9.92129415e-02\n",
      " 9.60499393e-02 9.14933668e-02 9.08487812e-02 9.80908740e-02\n",
      " 1.01626972e-01 1.01185587e-01 1.02282673e-01 9.68932927e-02\n",
      " 9.66651109e-02 9.82768596e-02 8.50707574e-02 8.47204197e-02\n",
      " 8.45316553e-02 8.85779840e-02 7.91617127e-02 6.85389682e-02\n",
      " 5.93758601e-02 6.51944129e-02 7.91189609e-02 8.34795308e-02\n",
      " 8.56437329e-02 1.04544578e-01 1.06546095e-01 1.07493265e-01\n",
      " 1.09716309e-01 9.62209468e-02 9.44953649e-02 1.00391641e-01\n",
      " 1.07934108e-01 1.08812989e-01 1.04496825e-01 1.10124946e-01\n",
      " 1.06603283e-01 1.07116848e-01 1.09823473e-01 1.13259632e-01\n",
      " 1.18611804e-01 1.34746627e-01 1.36522728e-01 1.45330496e-01\n",
      " 1.39438666e-01 1.43430030e-01 1.48253104e-01 1.59444378e-01\n",
      " 1.72544441e-01 1.79853156e-01 1.71979232e-01 1.77614022e-01\n",
      " 1.91798403e-01 1.79815961e-01 1.78660020e-01 1.82931765e-01\n",
      " 1.79185798e-01 1.59491562e-01 1.84935506e-01 1.87224060e-01\n",
      " 1.97268827e-01 1.95639295e-01 1.98850620e-01 1.91861134e-01\n",
      " 2.00466272e-01 2.08326302e-01 2.13230975e-01 2.19340455e-01\n",
      " 2.05930597e-01 2.03104608e-01 1.86495082e-01 1.81278376e-01\n",
      " 2.03315006e-01 2.08404594e-01 1.88288384e-01 1.91311487e-01\n",
      " 1.82806844e-01 1.88496043e-01 1.85184237e-01 1.67253333e-01\n",
      " 1.37659231e-01 1.24384270e-01 1.56139240e-01 1.52474886e-01\n",
      " 1.63754985e-01 1.72817042e-01 1.72513902e-01 1.57511150e-01\n",
      " 1.53584185e-01 1.56769390e-01 1.60694688e-01 1.62459687e-01\n",
      " 1.73179592e-01 1.74474890e-01 1.87289014e-01 1.82708030e-01\n",
      " 1.90141110e-01 1.95363915e-01 2.01268527e-01 1.93832113e-01\n",
      " 1.91213756e-01 1.88980737e-01 1.97507582e-01 1.98759558e-01\n",
      " 2.04304941e-01 2.11899594e-01 2.21152652e-01 2.20918913e-01\n",
      " 2.26269974e-01 2.58304769e-01 2.68125773e-01 2.61427798e-01\n",
      " 2.68527755e-01 2.65473557e-01 2.42920029e-01 2.65280916e-01\n",
      " 2.70487076e-01 2.85097294e-01 2.76682602e-01 2.72309819e-01\n",
      " 2.62271151e-01 2.57398115e-01 2.74847090e-01 2.74980334e-01\n",
      " 2.72897203e-01 2.74261360e-01 2.93116132e-01 2.97105829e-01\n",
      " 3.11772679e-01 3.33024268e-01 3.44192783e-01 3.45242658e-01\n",
      " 3.63369564e-01 3.43959586e-01 3.45240435e-01 3.49080812e-01\n",
      " 3.49850318e-01 3.14606990e-01 3.03048747e-01 2.63949535e-01\n",
      " 2.82532236e-01 3.15335995e-01 3.25205309e-01 3.54199787e-01\n",
      " 3.77270242e-01 3.73061771e-01 3.85082531e-01 4.00176873e-01\n",
      " 3.93058048e-01 4.08191265e-01 4.03789611e-01 3.97561309e-01\n",
      " 4.11637441e-01 4.44553299e-01 4.76215554e-01 4.94057646e-01\n",
      " 4.55221046e-01 4.59944139e-01 4.81994676e-01 5.53872652e-01\n",
      " 5.46259672e-01 5.65102218e-01 5.96655655e-01 6.06406716e-01\n",
      " 7.03004118e-01 7.31013621e-01 6.89116181e-01 6.82427640e-01\n",
      " 7.93111095e-01 8.61399702e-01 8.28938527e-01 8.48580536e-01\n",
      " 8.71819179e-01 9.20474019e-01 1.00000000e+00 9.64661734e-01\n",
      " 8.92395169e-01 8.27430039e-01 7.89136986e-01 5.62764826e-01\n",
      " 7.00475711e-01 6.34427389e-01 6.81301127e-01 7.22263068e-01\n",
      " 7.65911627e-01 7.06582968e-01 7.33510960e-01 6.23081197e-01\n",
      " 6.45141710e-01]\n"
     ]
    },
    {
     "name": "stderr",
     "output_type": "stream",
     "text": [
      "/Users/Adil/anaconda/lib/python2.7/site-packages/sklearn/preprocessing/data.py:321: DeprecationWarning: Passing 1d arrays as data is deprecated in 0.17 and will raise ValueError in 0.19. Reshape your data either using X.reshape(-1, 1) if your data has a single feature or X.reshape(1, -1) if it contains a single sample.\n",
      "  warnings.warn(DEPRECATION_MSG_1D, DeprecationWarning)\n",
      "/Users/Adil/anaconda/lib/python2.7/site-packages/sklearn/preprocessing/data.py:356: DeprecationWarning: Passing 1d arrays as data is deprecated in 0.17 and will raise ValueError in 0.19. Reshape your data either using X.reshape(-1, 1) if your data has a single feature or X.reshape(1, -1) if it contains a single sample.\n",
      "  warnings.warn(DEPRECATION_MSG_1D, DeprecationWarning)\n"
     ]
    }
   ],
   "source": [
    "#scale the feature with MinMaxScaler so that when you scale it, its in the minimum and maximum\n",
    "#value \n",
    "\n",
    "from sklearn.preprocessing import MinMaxScaler\n",
    "\n",
    "scaler=MinMaxScaler()\n",
    "Bitcoin_Low=bitcoin['Low']\n",
    "print\"I'm Normalizing the data for the Low \\n\"\n",
    "print (scaler.fit(Bitcoin_Low))\n",
    "print (scaler.data_max_)\n",
    "normalized_Low=scaler.transform(bitcoin['Low'])\n",
    "print (normalized_Low)"
   ]
  },
  {
   "cell_type": "code",
   "execution_count": 50,
   "metadata": {},
   "outputs": [
    {
     "data": {
      "image/png": "[encoded data removed]",
      "text/plain": [
       "<matplotlib.figure.Figure at 0x112cf6c10>"
      ]
     },
     "metadata": {},
     "output_type": "display_data"
    }
   ],
   "source": [
    "plt.plot_date(bitcoin['Date'],normalized_Low,label='Normalized Low')\n",
    "plt.ylabel('Normalized Prices')\n",
    "plt.xlabel('Days')\n",
    "plt.title('Normalized Value For Low')\n",
    "plt.legend()\n",
    "plt.show()"
   ]
  },
  {
   "cell_type": "code",
   "execution_count": 25,
   "metadata": {},
   "outputs": [
    {
     "name": "stdout",
     "output_type": "stream",
     "text": [
      "The minimum value is:  0.0\n",
      "The maximum value is:  0.9999999999999999\n",
      "The mean is:  0.16801317906845387\n",
      "The standard deviation is:  0.20440343600778235\n"
     ]
    }
   ],
   "source": [
    "print \"The minimum value is: \",np.min(normalized_Low)\n",
    "print \"The maximum value is: \",np.max(normalized_Low)\n",
    "print \"The mean is: \",np.mean(normalized_Low)\n",
    "print \"The standard deviation is: \",np.std(normalized_Low)"
   ]
  },
  {
   "cell_type": "code",
   "execution_count": 27,
   "metadata": {},
   "outputs": [
    {
     "name": "stdout",
     "output_type": "stream",
     "text": [
      "I'm Normalizing the data for the Adjusted Close \n",
      "\n",
      "MinMaxScaler(copy=True, feature_range=(0, 1))\n",
      "19345.490234\n",
      "[0.01131516 0.01247949 0.01335502 0.01885662 0.01098703 0.00542724\n",
      " 0.00557326 0.00621927 0.00616108 0.00640838 0.         0.00132974\n",
      " 0.00212284 0.00184267 0.00192564 0.00225808 0.00615461 0.00466594\n",
      " 0.00591485 0.00579093 0.0072419  0.00718802 0.00732918 0.00583619\n",
      " 0.00587175 0.00701129 0.0071433  0.00717024 0.00695687 0.00728985\n",
      " 0.00970148 0.01061419 0.01177475 0.01226235 0.0132769  0.01242884\n",
      " 0.01289005 0.0142311  0.0145506  0.01042723 0.01143207 0.01200912\n",
      " 0.01137335 0.01131085 0.0120102  0.01200212 0.01328121 0.01422302\n",
      " 0.01437765 0.014195   0.01573972 0.01797408 0.01805113 0.02082321\n",
      " 0.02106997 0.01959153 0.02080543 0.02173484 0.02175855 0.02355758\n",
      " 0.02532535 0.02682481 0.02580218 0.02617394 0.02648591 0.02409798\n",
      " 0.01947946 0.02186954 0.01761632 0.02121706 0.02368958 0.02439431\n",
      " 0.02466102 0.02521544 0.02087547 0.01542452 0.01001883 0.01277851\n",
      " 0.01412064 0.01809585 0.01397032 0.01344823 0.00831194 0.00974512\n",
      " 0.0099143  0.01399295 0.01395416 0.01381838 0.01360341 0.01582322\n",
      " 0.01620092 0.01680868 0.01951125 0.01919929 0.01855813 0.02172784\n",
      " 0.02182428 0.02130112 0.02257051 0.0226982  0.02345413 0.02301178\n",
      " 0.02105435 0.02111523 0.02109691 0.02108668 0.02201394 0.0226648\n",
      " 0.02315563 0.02438893 0.02501123 0.02453979 0.0249843  0.02493257\n",
      " 0.02580164 0.02700422 0.02949775 0.02932049 0.02967932 0.03052145\n",
      " 0.03396433 0.03558717 0.03772186 0.03940343 0.03891906 0.0409406\n",
      " 0.04143413 0.04736191 0.04914154 0.05209466 0.05570349 0.04854295\n",
      " 0.0527105  0.05318518 0.04975685 0.05085705 0.0547342  0.05902783\n",
      " 0.06339257 0.06760485 0.0678209  0.07214308 0.08012636 0.08943128\n",
      " 0.08199273 0.07863444 0.06826486 0.07562422 0.08042969 0.07581441\n",
      " 0.08178368 0.0876732  0.09198085 0.09482728 0.09367588 0.10342262\n",
      " 0.11234177 0.10269794 0.10847756 0.10915913 0.11394467 0.11788862\n",
      " 0.10082618 0.10385527 0.09061609 0.08927934 0.09284184 0.10073621\n",
      " 0.09451101 0.09867371 0.10608532 0.10194957 0.10438598 0.10371411\n",
      " 0.09723137 0.09462201 0.08947277 0.09689193 0.09656811 0.09552448\n",
      " 0.09133484 0.08831761 0.09434398 0.09628417 0.09870065 0.09926854\n",
      " 0.0985347  0.09312739 0.09587416 0.09299538 0.08397548 0.08291245\n",
      " 0.08715813 0.08496793 0.07805685 0.06409731 0.06081122 0.07801483\n",
      " 0.0826937  0.08066515 0.11210039 0.10181271 0.1105115  0.10620548\n",
      " 0.10657239 0.09682889 0.09556973 0.10271787 0.10890697 0.10496033\n",
      " 0.1067378  0.11302981 0.10568716 0.10426152 0.10908154 0.11277226\n",
      " 0.13347856 0.13182069 0.14097368 0.14245373 0.13811162 0.14225384\n",
      " 0.15457601 0.16628126 0.17657109 0.19086737 0.18190836 0.19407102\n",
      " 0.18822622 0.1788755  0.18130438 0.17678661 0.17347304 0.17803121\n",
      " 0.18080005 0.19035068 0.19283236 0.19217986 0.19182696 0.19422782\n",
      " 0.2053808  0.20461087 0.21280534 0.22286674 0.20411409 0.20622185\n",
      " 0.18760824 0.19523913 0.20653381 0.20744384 0.19078711 0.19125476\n",
      " 0.1864466  0.18493851 0.18176072 0.16620959 0.13241606 0.15777589\n",
      " 0.15697632 0.15647471 0.17860124 0.16823922 0.16684913 0.15257709\n",
      " 0.15169132 0.16177695 0.15528452 0.1695792  0.16741702 0.18463142\n",
      " 0.1837397  0.18250803 0.19262815 0.19491639 0.19482102 0.19012601\n",
      " 0.18497947 0.19051716 0.19323806 0.19667932 0.20615613 0.21508875\n",
      " 0.21432742 0.21760545 0.25038659 0.26141239 0.27151205 0.26415378\n",
      " 0.26798944 0.25932837 0.25810262 0.26472004 0.28058529 0.28131481\n",
      " 0.28003303 0.27576311 0.2547217  0.26662467 0.27490104 0.26827122\n",
      " 0.2662265  0.28890477 0.28765261 0.30526896 0.32070746 0.3361724\n",
      " 0.34303176 0.35443688 0.35582427 0.33263901 0.34037174 0.35877738\n",
      " 0.34181785 0.31144133 0.29926788 0.27439027 0.30910569 0.3131256\n",
      " 0.35009532 0.38083121 0.37254837 0.37691042 0.39101221 0.4018985\n",
      " 0.3941011  0.40135214 0.38943732 0.39953371 0.42937686 0.45975012\n",
      " 0.48209812 0.49141058 0.48773712 0.49360453 0.54288831 0.54565019\n",
      " 0.56361778 0.58396794 0.58629658 0.69849667 0.86556188 0.82231308\n",
      " 0.75743234 0.76907992 0.85921277 0.87814749 0.83520151 0.84495847\n",
      " 0.90621579 1.         0.98492573 0.97989393 0.90184348 0.84463846\n",
      " 0.79992683 0.69393847 0.73335053 0.70067231 0.70301821 0.80663152\n",
      " 0.78831693 0.73347123 0.73314096 0.63286915 0.70392931]\n"
     ]
    },
    {
     "name": "stderr",
     "output_type": "stream",
     "text": [
      "/Users/Adil/anaconda/lib/python2.7/site-packages/sklearn/preprocessing/data.py:321: DeprecationWarning: Passing 1d arrays as data is deprecated in 0.17 and will raise ValueError in 0.19. Reshape your data either using X.reshape(-1, 1) if your data has a single feature or X.reshape(1, -1) if it contains a single sample.\n",
      "  warnings.warn(DEPRECATION_MSG_1D, DeprecationWarning)\n",
      "/Users/Adil/anaconda/lib/python2.7/site-packages/sklearn/preprocessing/data.py:356: DeprecationWarning: Passing 1d arrays as data is deprecated in 0.17 and will raise ValueError in 0.19. Reshape your data either using X.reshape(-1, 1) if your data has a single feature or X.reshape(1, -1) if it contains a single sample.\n",
      "  warnings.warn(DEPRECATION_MSG_1D, DeprecationWarning)\n"
     ]
    }
   ],
   "source": [
    "#scale the feature with MinMaxScaler so that when you scale it, its in the minimum and maximum\n",
    "#value \n",
    "\n",
    "from sklearn.preprocessing import MinMaxScaler\n",
    "\n",
    "scaler=MinMaxScaler()\n",
    "Bitcoin_Adj_Close=bitcoin['Adj Close']\n",
    "print\"I'm Normalizing the data for the Adjusted Close \\n\"\n",
    "print (scaler.fit(Bitcoin_Adj_Close))\n",
    "print (scaler.data_max_)\n",
    "normalized_Adj_Close=scaler.transform(bitcoin['Adj Close'])\n",
    "print normalized_Adj_Close"
   ]
  },
  {
   "cell_type": "code",
   "execution_count": 51,
   "metadata": {},
   "outputs": [
    {
     "data": {
      "image/png": "[encoded data removed]",
      "text/plain": [
       "<matplotlib.figure.Figure at 0x112c64350>"
      ]
     },
     "metadata": {},
     "output_type": "display_data"
    }
   ],
   "source": [
    "plt.plot_date(bitcoin['Date'],normalized_Adj_Close,label='Normalized Adjusted Closed Price')\n",
    "plt.ylabel('Normalized Prices')\n",
    "plt.xlabel('Days')\n",
    "plt.title('Normalized Value For Adjusted Close')\n",
    "plt.legend()\n",
    "plt.show()"
   ]
  },
  {
   "cell_type": "code",
   "execution_count": 27,
   "metadata": {},
   "outputs": [
    {
     "name": "stdout",
     "output_type": "stream",
     "text": [
      "The minimum value is:  0.0\n",
      "The maximum value is:  1.0\n",
      "The mean is:  0.17217840303499946\n",
      "The standard deviation is:  0.21453107429000118\n"
     ]
    }
   ],
   "source": [
    "print \"The minimum value is: \",np.min(normalized_Adj_Close)\n",
    "print \"The maximum value is: \",np.max(normalized_Adj_Close)\n",
    "print \"The mean is: \",np.mean(normalized_Adj_Close)\n",
    "print \"The standard deviation is: \",np.std(normalized_Adj_Close)"
   ]
  },
  {
   "cell_type": "markdown",
   "metadata": {},
   "source": [
    "# Step 2 "
   ]
  },
  {
   "cell_type": "markdown",
   "metadata": {
    "collapsed": true
   },
   "source": [
    "I Will start the benchmark model. I will be using Linear Regression "
   ]
  },
  {
   "cell_type": "code",
   "execution_count": 2,
   "metadata": {
    "collapsed": true
   },
   "outputs": [],
   "source": [
    "#load the libaries\n",
    "import datetime\n",
    "\n",
    "from sklearn import linear_model\n",
    "\n",
    "from sklearn.metrics import mean_squared_error\n",
    "from sklearn.metrics import r2_score\n",
    "\n",
    "from sklearn.model_selection import train_test_split\n",
    "from sklearn.model_selection import TimeSeriesSplit\n",
    "\n",
    "from sklearn.linear_model import LinearRegression\n",
    "\n",
    "from sklearn import preprocessing\n",
    "from sklearn import cross_validation\n",
    "from sklearn import svm\n",
    "\n",
    "from pandas import Series\n",
    "from pandas import DataFrame\n",
    "from pandas import concat"
   ]
  },
  {
   "cell_type": "code",
   "execution_count": 3,
   "metadata": {},
   "outputs": [
    {
     "name": "stdout",
     "output_type": "stream",
     "text": [
      "           Date          Open          High           Low         Close  \\\n",
      "360  2017-12-27  15757.019531  16514.589844  14534.660156  15416.639648   \n",
      "361  2017-12-28  15416.339844  15505.509766  13466.070313  14398.700195   \n",
      "362  2017-12-29  14398.450195  15109.809570  13951.080078  14392.570313   \n",
      "363  2017-12-30  14392.139648  14461.459961  11962.089844  12531.519531   \n",
      "364  2017-12-31  12532.379883  14241.820313  12359.429688  13850.400391   \n",
      "\n",
      "        Adj Close      Volume  \n",
      "360  15416.639648  2162831128  \n",
      "361  14398.700195  2425912717  \n",
      "362  14392.570313  1733583750  \n",
      "363  12531.519531  2387311023  \n",
      "364  13850.400391  1492142483  \n"
     ]
    }
   ],
   "source": [
    "#See the data we are going to use \n",
    "print (bitcoin.tail())"
   ]
  },
  {
   "cell_type": "code",
   "execution_count": 4,
   "metadata": {
    "collapsed": true
   },
   "outputs": [],
   "source": [
    "#only use the data for adjust Open\n",
    "bitcoin=bitcoin[['Open']]"
   ]
  },
  {
   "cell_type": "code",
   "execution_count": 5,
   "metadata": {
    "collapsed": true
   },
   "outputs": [],
   "source": [
    "#Help predict the next 1 days \n",
    "Future=int(1)"
   ]
  },
  {
   "cell_type": "code",
   "execution_count": 6,
   "metadata": {
    "collapsed": true
   },
   "outputs": [],
   "source": [
    "#Column Label for the next 30 days \n",
    "bitcoin['Prediction']=bitcoin[['Open']].shift(-Future)"
   ]
  },
  {
   "cell_type": "code",
   "execution_count": 7,
   "metadata": {},
   "outputs": [
    {
     "name": "stdout",
     "output_type": "stream",
     "text": [
      "             Open    Prediction\n",
      "360  15757.019531  15416.339844\n",
      "361  15416.339844  14398.450195\n",
      "362  14398.450195  14392.139648\n",
      "363  14392.139648  12532.379883\n",
      "364  12532.379883           NaN\n"
     ]
    }
   ],
   "source": [
    "#print the new column\n",
    "print (bitcoin.tail())"
   ]
  },
  {
   "cell_type": "code",
   "execution_count": 8,
   "metadata": {
    "collapsed": true
   },
   "outputs": [],
   "source": [
    "#Drop the prediction column and scale input to normalize data \n",
    "X=np.array(bitcoin.drop(['Prediction'],1))\n",
    "X=preprocessing.scale(X)"
   ]
  },
  {
   "cell_type": "code",
   "execution_count": 9,
   "metadata": {},
   "outputs": [
    {
     "name": "stdout",
     "output_type": "stream",
     "text": [
      "             Open    Prediction\n",
      "360  15757.019531  15416.339844\n",
      "361  15416.339844  14398.450195\n",
      "362  14398.450195  14392.139648\n",
      "363  14392.139648  12532.379883\n",
      "364  12532.379883           NaN\n"
     ]
    }
   ],
   "source": [
    "#Prediction Label will have no labels \n",
    "print (bitcoin.tail())"
   ]
  },
  {
   "cell_type": "code",
   "execution_count": 10,
   "metadata": {
    "collapsed": true
   },
   "outputs": [],
   "source": [
    "#Set X_Future equal to last 1 days \n",
    "X_Future=X[-Future:]"
   ]
  },
  {
   "cell_type": "code",
   "execution_count": 11,
   "metadata": {
    "collapsed": true
   },
   "outputs": [],
   "source": [
    "#Remove the Last 1 Days from X \n",
    "X=X[:-Future]"
   ]
  },
  {
   "cell_type": "code",
   "execution_count": 12,
   "metadata": {
    "collapsed": true
   },
   "outputs": [],
   "source": [
    "#Define the Y value or the output value  and remove the last 30 days \n",
    "y=np.array(bitcoin['Prediction'])\n",
    "y=y[:-Future]"
   ]
  },
  {
   "cell_type": "code",
   "execution_count": 45,
   "metadata": {},
   "outputs": [
    {
     "name": "stdout",
     "output_type": "stream",
     "text": [
      "TimeSeriesSplit(n_splits=3)\n"
     ]
    }
   ],
   "source": [
    "#Do A Time Series Split\n",
    "tscv = TimeSeriesSplit(n_splits=3)\n",
    "print (tscv)"
   ]
  },
  {
   "cell_type": "code",
   "execution_count": 48,
   "metadata": {
    "collapsed": true
   },
   "outputs": [],
   "source": [
    "#Start Linear Regression \n",
    "#Start with Train Test Split\n",
    "for train_index, test_index in tscv.split(X):\n",
    "    #print(\"TRAIN:\", train_index, \"TEST:\", test_index)\n",
    "    X_train, X_test = X[train_index], X[test_index]\n",
    "    y_train, y_test = y[train_index], y[test_index]"
   ]
  },
  {
   "cell_type": "code",
   "execution_count": 49,
   "metadata": {},
   "outputs": [
    {
     "name": "stdout",
     "output_type": "stream",
     "text": [
      "Observations: 365\n",
      "Training Observations: 356\n",
      "Testing Observations: 7\n"
     ]
    }
   ],
   "source": [
    "print('Observations: %d' % (len(bitcoin)))\n",
    "print('Training Observations: %d' % (len(train)))\n",
    "print('Testing Observations: %d' % (len(test)))"
   ]
  },
  {
   "cell_type": "code",
   "execution_count": 27,
   "metadata": {
    "collapsed": true
   },
   "outputs": [],
   "source": [
    "#Create a linear regression \n",
    "reg=LinearRegression()"
   ]
  },
  {
   "cell_type": "code",
   "execution_count": 28,
   "metadata": {},
   "outputs": [
    {
     "data": {
      "text/plain": [
       "LinearRegression(copy_X=True, fit_intercept=True, n_jobs=1, normalize=False)"
      ]
     },
     "execution_count": 28,
     "metadata": {},
     "output_type": "execute_result"
    }
   ],
   "source": [
    "#Train the model using training set\n",
    "reg.fit(X_test,y_test)"
   ]
  },
  {
   "cell_type": "code",
   "execution_count": 29,
   "metadata": {
    "collapsed": true
   },
   "outputs": [],
   "source": [
    "#Testing \n",
    "accuracy=reg.score(X_test,y_test)"
   ]
  },
  {
   "cell_type": "code",
   "execution_count": null,
   "metadata": {
    "collapsed": true
   },
   "outputs": [],
   "source": []
  },
  {
   "cell_type": "code",
   "execution_count": 30,
   "metadata": {},
   "outputs": [
    {
     "name": "stdout",
     "output_type": "stream",
     "text": [
      "('Accuracy of the Linear Regression is : ', 0.7060152984976713)\n"
     ]
    }
   ],
   "source": [
    "print (\"Accuracy of the Linear Regression is : \",accuracy)"
   ]
  },
  {
   "cell_type": "code",
   "execution_count": 31,
   "metadata": {
    "collapsed": true
   },
   "outputs": [],
   "source": [
    "#Predict the Future \n",
    "Future_Prediction=reg.predict(X_Future)"
   ]
  },
  {
   "cell_type": "code",
   "execution_count": 32,
   "metadata": {},
   "outputs": [
    {
     "name": "stdout",
     "output_type": "stream",
     "text": [
      "('Tomorrow Bitcoin Will Open up at :', array([12589.27584055]))\n"
     ]
    }
   ],
   "source": [
    "print (\"Tomorrow Bitcoin Will Open up at :\" ,Future_Prediction)"
   ]
  },
  {
   "cell_type": "markdown",
   "metadata": {
    "collapsed": true
   },
   "source": [
    "# Step 3"
   ]
  },
  {
   "cell_type": "markdown",
   "metadata": {},
   "source": [
    "I will be using Neural Network Model now to evalute the model"
   ]
  },
  {
   "cell_type": "code",
   "execution_count": 2,
   "metadata": {
    "collapsed": true
   },
   "outputs": [],
   "source": [
    "import pandas\n",
    "import matplotlib.pyplot as plt"
   ]
  },
  {
   "cell_type": "code",
   "execution_count": 3,
   "metadata": {},
   "outputs": [
    {
     "data": {
      "image/png": "[encoded data removed]",
      "text/plain": [
       "<matplotlib.figure.Figure at 0x10fa59b10>"
      ]
     },
     "metadata": {},
     "output_type": "display_data"
    }
   ],
   "source": [
    "bitcoin = pandas.read_csv('BTC-USD.csv', usecols=[1], engine='python', skipfooter=3)\n",
    "plt.plot(bitcoin,label='Prices')\n",
    "plt.ylabel('Prices')\n",
    "plt.xlabel('Days')\n",
    "plt.title('Value For When The Price Is Open')\n",
    "plt.legend()\n",
    "plt.show()"
   ]
  },
  {
   "cell_type": "code",
   "execution_count": 4,
   "metadata": {},
   "outputs": [
    {
     "name": "stderr",
     "output_type": "stream",
     "text": [
      "/Users/Adil/anaconda/lib/python2.7/site-packages/h5py/__init__.py:34: FutureWarning: Conversion of the second argument of issubdtype from `float` to `np.floating` is deprecated. In future, it will be treated as `np.float64 == np.dtype(float).type`.\n",
      "  from ._conv import register_converters as _register_converters\n",
      "Using TensorFlow backend.\n",
      "/Users/Adil/anaconda/lib/python2.7/site-packages/sklearn/cross_validation.py:44: DeprecationWarning: This module was deprecated in version 0.18 in favor of the model_selection module into which all the refactored classes and functions are moved. Also note that the interface of the new CV iterators are different from that of this module. This module will be removed in 0.20.\n",
      "  \"This module will be removed in 0.20.\", DeprecationWarning)\n"
     ]
    }
   ],
   "source": [
    "import numpy as np\n",
    "import matplotlib.pyplot as plt\n",
    "import pandas as pd\n",
    "import math\n",
    "import time\n",
    "\n",
    "from keras.models import Sequential\n",
    "from keras.layers import Dense\n",
    "from keras.layers import LSTM\n",
    "from keras.layers.core import Activation\n",
    "from keras.layers.core import Dropout \n",
    "\n",
    "from sklearn.preprocessing import MinMaxScaler\n",
    "from sklearn.metrics import mean_squared_error\n",
    "from sklearn.cross_validation import  train_test_split\n",
    "from sklearn.preprocessing import MinMaxScaler\n",
    "from sklearn.metrics import r2_score \n",
    "\n",
    "from subprocess import check_output\n",
    "\n",
    "from numpy import newaxis"
   ]
  },
  {
   "cell_type": "code",
   "execution_count": 5,
   "metadata": {
    "collapsed": true
   },
   "outputs": [],
   "source": [
    "# fix random seed for reproducibility\n",
    "np.random.seed(7)"
   ]
  },
  {
   "cell_type": "code",
   "execution_count": 6,
   "metadata": {
    "collapsed": true
   },
   "outputs": [],
   "source": [
    "Bitcoin = pandas.read_csv('BTC-USD.csv', usecols=[1], engine='python', skipfooter=3)\n",
    "bitcoin = Bitcoin.values\n",
    "bitcoin = bitcoin.astype('float32')"
   ]
  },
  {
   "cell_type": "code",
   "execution_count": 7,
   "metadata": {
    "collapsed": true
   },
   "outputs": [],
   "source": [
    "# normalize the dataset\n",
    "scaler = MinMaxScaler(feature_range=(0, 1))\n",
    "bitcoin = scaler.fit_transform(bitcoin)"
   ]
  },
  {
   "cell_type": "code",
   "execution_count": 8,
   "metadata": {},
   "outputs": [
    {
     "name": "stdout",
     "output_type": "stream",
     "text": [
      "(70, 18)\n"
     ]
    }
   ],
   "source": [
    "train_size = int(len(bitcoin) * 0.80)\n",
    "test_size = len(bitcoin) - train_size\n",
    "train, test = bitcoin[0:train_size,:], bitcoin[train_size:len(bitcoin),:]\n",
    "print(len(train), len(test))"
   ]
  },
  {
   "cell_type": "code",
   "execution_count": 9,
   "metadata": {
    "collapsed": true
   },
   "outputs": [],
   "source": [
    "# convert an array of values into a dataset matrix\n",
    "def create_bitcoin(bitcoin, look_back=1):\n",
    "    dataX, dataY = [], []\n",
    "    for i in range(len(bitcoin)-look_back-1):\n",
    "        a = bitcoin[i:(i+look_back), 0]\n",
    "        dataX.append(a)\n",
    "        dataY.append(bitcoin[i + look_back, 0])\n",
    "    return np.array(dataX), np.array(dataY)"
   ]
  },
  {
   "cell_type": "code",
   "execution_count": 10,
   "metadata": {
    "collapsed": true
   },
   "outputs": [],
   "source": [
    "# reshape into X=t and Y=t+1\n",
    "look_back = 1\n",
    "X_train, y_train = create_bitcoin(train, look_back)\n",
    "X_test, y_test = create_bitcoin(test, look_back)"
   ]
  },
  {
   "cell_type": "code",
   "execution_count": 11,
   "metadata": {
    "collapsed": true
   },
   "outputs": [],
   "source": [
    "# reshape input to be [samples, time steps, features]\n",
    "X_train = np.reshape(X_train, (X_train.shape[0], 1, X_train.shape[1]))\n",
    "X_test = np.reshape(X_test, (X_test.shape[0], 1, X_test.shape[1]))"
   ]
  },
  {
   "cell_type": "code",
   "execution_count": 12,
   "metadata": {},
   "outputs": [
    {
     "name": "stderr",
     "output_type": "stream",
     "text": [
      "/Users/Adil/anaconda/lib/python2.7/site-packages/ipykernel_launcher.py:7: UserWarning: The `input_dim` and `input_length` arguments in recurrent layers are deprecated. Use `input_shape` instead.\n",
      "  import sys\n",
      "/Users/Adil/anaconda/lib/python2.7/site-packages/ipykernel_launcher.py:7: UserWarning: Update your `LSTM` call to the Keras 2 API: `LSTM(32, return_sequences=True, input_shape=(None, 1))`\n",
      "  import sys\n"
     ]
    }
   ],
   "source": [
    "#create and fit the LSTM Model \n",
    "\n",
    "#import model\n",
    "model = Sequential()\n",
    "\n",
    "#Input Layer\n",
    "model.add(LSTM(32,input_dim=1,return_sequences=True))\n",
    "\n",
    "#Hidden Layers\n",
    "model.add(LSTM(16,return_sequences=False))\n",
    "\n",
    "model.add(Dropout(0.2))\n",
    "\n",
    "#Output layer \n",
    "model.add(Dense(1,activation='linear'))\n",
    "\n",
    "#complier\n",
    "model.compile(loss='mse', optimizer='rmsprop')"
   ]
  },
  {
   "cell_type": "code",
   "execution_count": 235,
   "metadata": {},
   "outputs": [
    {
     "name": "stdout",
     "output_type": "stream",
     "text": [
      "_________________________________________________________________\n",
      "Layer (type)                 Output Shape              Param #   \n",
      "=================================================================\n",
      "lstm_35 (LSTM)               (None, None, 32)          4352      \n",
      "_________________________________________________________________\n",
      "lstm_36 (LSTM)               (None, 16)                3136      \n",
      "_________________________________________________________________\n",
      "dropout_18 (Dropout)         (None, 16)                0         \n",
      "_________________________________________________________________\n",
      "dense_18 (Dense)             (None, 1)                 17        \n",
      "=================================================================\n",
      "Total params: 7,505\n",
      "Trainable params: 7,505\n",
      "Non-trainable params: 0\n",
      "_________________________________________________________________\n"
     ]
    }
   ],
   "source": [
    "#summary representation\n",
    "model.summary()"
   ]
  },
  {
   "cell_type": "code",
   "execution_count": 13,
   "metadata": {},
   "outputs": [
    {
     "name": "stderr",
     "output_type": "stream",
     "text": [
      "/Users/Adil/anaconda/lib/python2.7/site-packages/keras/models.py:942: UserWarning: The `nb_epoch` argument in `fit` has been renamed `epochs`.\n",
      "  warnings.warn('The `nb_epoch` argument in `fit` '\n"
     ]
    },
    {
     "name": "stdout",
     "output_type": "stream",
     "text": [
      "Train on 57 samples, validate on 11 samples\n",
      "Epoch 1/250\n",
      "57/57 [==============================] - 3s 48ms/step - loss: 0.0901 - val_loss: 0.0147\n",
      "Epoch 2/250\n",
      "57/57 [==============================] - 0s 488us/step - loss: 0.0825 - val_loss: 0.0118\n",
      "Epoch 3/250\n",
      "57/57 [==============================] - 0s 524us/step - loss: 0.0768 - val_loss: 0.0098\n",
      "Epoch 4/250\n",
      "57/57 [==============================] - 0s 572us/step - loss: 0.0717 - val_loss: 0.0078\n",
      "Epoch 5/250\n",
      "57/57 [==============================] - 0s 616us/step - loss: 0.0675 - val_loss: 0.0064\n",
      "Epoch 6/250\n",
      "57/57 [==============================] - 0s 657us/step - loss: 0.0641 - val_loss: 0.0052\n",
      "Epoch 7/250\n",
      "57/57 [==============================] - 0s 638us/step - loss: 0.0603 - val_loss: 0.0040\n",
      "Epoch 8/250\n",
      "57/57 [==============================] - 0s 559us/step - loss: 0.0568 - val_loss: 0.0029\n",
      "Epoch 9/250\n",
      "57/57 [==============================] - 0s 584us/step - loss: 0.0542 - val_loss: 0.0020\n",
      "Epoch 10/250\n",
      "57/57 [==============================] - 0s 544us/step - loss: 0.0499 - val_loss: 0.0012\n",
      "Epoch 11/250\n",
      "57/57 [==============================] - 0s 519us/step - loss: 0.0478 - val_loss: 7.6088e-04\n",
      "Epoch 12/250\n",
      "57/57 [==============================] - 0s 565us/step - loss: 0.0443 - val_loss: 4.7152e-04\n",
      "Epoch 13/250\n",
      "57/57 [==============================] - 0s 555us/step - loss: 0.0428 - val_loss: 3.6748e-04\n",
      "Epoch 14/250\n",
      "57/57 [==============================] - 0s 518us/step - loss: 0.0405 - val_loss: 4.3482e-04\n",
      "Epoch 15/250\n",
      "57/57 [==============================] - 0s 525us/step - loss: 0.0382 - val_loss: 6.4439e-04\n",
      "Epoch 16/250\n",
      "57/57 [==============================] - 0s 583us/step - loss: 0.0335 - val_loss: 0.0010\n",
      "Epoch 17/250\n",
      "57/57 [==============================] - 0s 535us/step - loss: 0.0335 - val_loss: 0.0018\n",
      "Epoch 18/250\n",
      "57/57 [==============================] - 0s 568us/step - loss: 0.0304 - val_loss: 0.0026\n",
      "Epoch 19/250\n",
      "57/57 [==============================] - 0s 588us/step - loss: 0.0326 - val_loss: 0.0030\n",
      "Epoch 20/250\n",
      "57/57 [==============================] - 0s 598us/step - loss: 0.0331 - val_loss: 0.0035\n",
      "Epoch 21/250\n",
      "57/57 [==============================] - 0s 517us/step - loss: 0.0297 - val_loss: 0.0049\n",
      "Epoch 22/250\n",
      "57/57 [==============================] - 0s 514us/step - loss: 0.0273 - val_loss: 0.0061\n",
      "Epoch 23/250\n",
      "57/57 [==============================] - 0s 530us/step - loss: 0.0282 - val_loss: 0.0064\n",
      "Epoch 24/250\n",
      "57/57 [==============================] - 0s 552us/step - loss: 0.0266 - val_loss: 0.0071\n",
      "Epoch 25/250\n",
      "57/57 [==============================] - 0s 565us/step - loss: 0.0255 - val_loss: 0.0073\n",
      "Epoch 26/250\n",
      "57/57 [==============================] - 0s 578us/step - loss: 0.0305 - val_loss: 0.0068\n",
      "Epoch 27/250\n",
      "57/57 [==============================] - 0s 579us/step - loss: 0.0280 - val_loss: 0.0066\n",
      "Epoch 28/250\n",
      "57/57 [==============================] - 0s 530us/step - loss: 0.0268 - val_loss: 0.0060\n",
      "Epoch 29/250\n",
      "57/57 [==============================] - 0s 576us/step - loss: 0.0272 - val_loss: 0.0065\n",
      "Epoch 30/250\n",
      "57/57 [==============================] - 0s 552us/step - loss: 0.0280 - val_loss: 0.0065\n",
      "Epoch 31/250\n",
      "57/57 [==============================] - 0s 577us/step - loss: 0.0245 - val_loss: 0.0057\n",
      "Epoch 32/250\n",
      "57/57 [==============================] - 0s 585us/step - loss: 0.0239 - val_loss: 0.0054\n",
      "Epoch 33/250\n",
      "57/57 [==============================] - 0s 574us/step - loss: 0.0245 - val_loss: 0.0054\n",
      "Epoch 34/250\n",
      "57/57 [==============================] - 0s 753us/step - loss: 0.0254 - val_loss: 0.0064\n",
      "Epoch 35/250\n",
      "57/57 [==============================] - 0s 782us/step - loss: 0.0279 - val_loss: 0.0057\n",
      "Epoch 36/250\n",
      "57/57 [==============================] - 0s 574us/step - loss: 0.0224 - val_loss: 0.0054\n",
      "Epoch 37/250\n",
      "57/57 [==============================] - 0s 568us/step - loss: 0.0230 - val_loss: 0.0050\n",
      "Epoch 38/250\n",
      "57/57 [==============================] - 0s 608us/step - loss: 0.0227 - val_loss: 0.0058\n",
      "Epoch 39/250\n",
      "57/57 [==============================] - 0s 543us/step - loss: 0.0250 - val_loss: 0.0069\n",
      "Epoch 40/250\n",
      "57/57 [==============================] - 0s 527us/step - loss: 0.0215 - val_loss: 0.0080\n",
      "Epoch 41/250\n",
      "57/57 [==============================] - 0s 539us/step - loss: 0.0217 - val_loss: 0.0083\n",
      "Epoch 42/250\n",
      "57/57 [==============================] - 0s 514us/step - loss: 0.0205 - val_loss: 0.0067\n",
      "Epoch 43/250\n",
      "57/57 [==============================] - 0s 556us/step - loss: 0.0224 - val_loss: 0.0076\n",
      "Epoch 44/250\n",
      "57/57 [==============================] - 0s 574us/step - loss: 0.0230 - val_loss: 0.0071\n",
      "Epoch 45/250\n",
      "57/57 [==============================] - 0s 527us/step - loss: 0.0187 - val_loss: 0.0065\n",
      "Epoch 46/250\n",
      "57/57 [==============================] - 0s 620us/step - loss: 0.0181 - val_loss: 0.0062\n",
      "Epoch 47/250\n",
      "57/57 [==============================] - 0s 605us/step - loss: 0.0196 - val_loss: 0.0058\n",
      "Epoch 48/250\n",
      "57/57 [==============================] - 0s 526us/step - loss: 0.0188 - val_loss: 0.0064\n",
      "Epoch 49/250\n",
      "57/57 [==============================] - 0s 601us/step - loss: 0.0189 - val_loss: 0.0055\n",
      "Epoch 50/250\n",
      "57/57 [==============================] - 0s 544us/step - loss: 0.0200 - val_loss: 0.0064\n",
      "Epoch 51/250\n",
      "57/57 [==============================] - 0s 628us/step - loss: 0.0176 - val_loss: 0.0044\n",
      "Epoch 52/250\n",
      "57/57 [==============================] - 0s 593us/step - loss: 0.0153 - val_loss: 0.0039\n",
      "Epoch 53/250\n",
      "57/57 [==============================] - 0s 615us/step - loss: 0.0191 - val_loss: 0.0038\n",
      "Epoch 54/250\n",
      "57/57 [==============================] - 0s 552us/step - loss: 0.0145 - val_loss: 0.0031\n",
      "Epoch 55/250\n",
      "57/57 [==============================] - 0s 586us/step - loss: 0.0182 - val_loss: 0.0044\n",
      "Epoch 56/250\n",
      "57/57 [==============================] - 0s 583us/step - loss: 0.0173 - val_loss: 0.0054\n",
      "Epoch 57/250\n",
      "57/57 [==============================] - 0s 808us/step - loss: 0.0164 - val_loss: 0.0045\n",
      "Epoch 58/250\n",
      "57/57 [==============================] - 0s 594us/step - loss: 0.0149 - val_loss: 0.0044\n",
      "Epoch 59/250\n",
      "57/57 [==============================] - 0s 741us/step - loss: 0.0144 - val_loss: 0.0039\n",
      "Epoch 60/250\n",
      "57/57 [==============================] - 0s 618us/step - loss: 0.0142 - val_loss: 0.0042\n",
      "Epoch 61/250\n",
      "57/57 [==============================] - 0s 683us/step - loss: 0.0131 - val_loss: 0.0029\n",
      "Epoch 62/250\n",
      "57/57 [==============================] - 0s 685us/step - loss: 0.0146 - val_loss: 0.0030\n",
      "Epoch 63/250\n",
      "57/57 [==============================] - 0s 545us/step - loss: 0.0156 - val_loss: 0.0022\n",
      "Epoch 64/250\n",
      "57/57 [==============================] - 0s 496us/step - loss: 0.0148 - val_loss: 0.0019\n",
      "Epoch 65/250\n",
      "57/57 [==============================] - 0s 536us/step - loss: 0.0171 - val_loss: 0.0019\n",
      "Epoch 66/250\n",
      "57/57 [==============================] - 0s 650us/step - loss: 0.0135 - val_loss: 0.0021\n",
      "Epoch 67/250\n",
      "57/57 [==============================] - 0s 621us/step - loss: 0.0125 - val_loss: 0.0018\n",
      "Epoch 68/250\n",
      "57/57 [==============================] - 0s 542us/step - loss: 0.0127 - val_loss: 0.0014\n",
      "Epoch 69/250\n",
      "57/57 [==============================] - 0s 519us/step - loss: 0.0145 - val_loss: 0.0021\n",
      "Epoch 70/250\n",
      "57/57 [==============================] - 0s 547us/step - loss: 0.0119 - val_loss: 0.0017\n",
      "Epoch 71/250\n",
      "57/57 [==============================] - 0s 636us/step - loss: 0.0133 - val_loss: 0.0010\n",
      "Epoch 72/250\n",
      "57/57 [==============================] - 0s 699us/step - loss: 0.0132 - val_loss: 0.0018\n",
      "Epoch 73/250\n",
      "57/57 [==============================] - 0s 595us/step - loss: 0.0094 - val_loss: 9.2464e-04\n",
      "Epoch 74/250\n",
      "57/57 [==============================] - 0s 636us/step - loss: 0.0109 - val_loss: 0.0017\n",
      "Epoch 75/250\n",
      "57/57 [==============================] - 0s 579us/step - loss: 0.0136 - val_loss: 0.0016\n",
      "Epoch 76/250\n",
      "57/57 [==============================] - 0s 596us/step - loss: 0.0135 - val_loss: 0.0012\n",
      "Epoch 77/250\n",
      "57/57 [==============================] - 0s 577us/step - loss: 0.0087 - val_loss: 0.0012\n",
      "Epoch 78/250\n",
      "57/57 [==============================] - 0s 573us/step - loss: 0.0083 - val_loss: 0.0014\n",
      "Epoch 79/250\n",
      "57/57 [==============================] - 0s 572us/step - loss: 0.0117 - val_loss: 0.0019\n",
      "Epoch 80/250\n",
      "57/57 [==============================] - 0s 514us/step - loss: 0.0106 - val_loss: 0.0014\n"
     ]
    },
    {
     "name": "stdout",
     "output_type": "stream",
     "text": [
      "Epoch 81/250\n",
      "57/57 [==============================] - 0s 571us/step - loss: 0.0097 - val_loss: 0.0012\n",
      "Epoch 82/250\n",
      "57/57 [==============================] - 0s 591us/step - loss: 0.0098 - val_loss: 0.0017\n",
      "Epoch 83/250\n",
      "57/57 [==============================] - 0s 520us/step - loss: 0.0133 - val_loss: 0.0011\n",
      "Epoch 84/250\n",
      "57/57 [==============================] - 0s 507us/step - loss: 0.0094 - val_loss: 9.1458e-04\n",
      "Epoch 85/250\n",
      "57/57 [==============================] - 0s 550us/step - loss: 0.0140 - val_loss: 0.0013\n",
      "Epoch 86/250\n",
      "57/57 [==============================] - 0s 530us/step - loss: 0.0081 - val_loss: 8.4690e-04\n",
      "Epoch 87/250\n",
      "57/57 [==============================] - 0s 537us/step - loss: 0.0086 - val_loss: 7.4495e-04\n",
      "Epoch 88/250\n",
      "57/57 [==============================] - 0s 659us/step - loss: 0.0091 - val_loss: 7.0837e-04\n",
      "Epoch 89/250\n",
      "57/57 [==============================] - 0s 698us/step - loss: 0.0094 - val_loss: 4.5116e-04\n",
      "Epoch 90/250\n",
      "57/57 [==============================] - 0s 602us/step - loss: 0.0093 - val_loss: 0.0011\n",
      "Epoch 91/250\n",
      "57/57 [==============================] - 0s 539us/step - loss: 0.0101 - val_loss: 5.3222e-04\n",
      "Epoch 92/250\n",
      "57/57 [==============================] - 0s 509us/step - loss: 0.0124 - val_loss: 7.0065e-04\n",
      "Epoch 93/250\n",
      "57/57 [==============================] - 0s 557us/step - loss: 0.0105 - val_loss: 9.3376e-04\n",
      "Epoch 94/250\n",
      "57/57 [==============================] - 0s 555us/step - loss: 0.0085 - val_loss: 4.1328e-04\n",
      "Epoch 95/250\n",
      "57/57 [==============================] - 0s 558us/step - loss: 0.0095 - val_loss: 2.6961e-04\n",
      "Epoch 96/250\n",
      "57/57 [==============================] - 0s 638us/step - loss: 0.0102 - val_loss: 4.5368e-04\n",
      "Epoch 97/250\n",
      "57/57 [==============================] - 0s 612us/step - loss: 0.0127 - val_loss: 5.5247e-04\n",
      "Epoch 98/250\n",
      "57/57 [==============================] - 0s 548us/step - loss: 0.0100 - val_loss: 5.3564e-04\n",
      "Epoch 99/250\n",
      "57/57 [==============================] - 0s 602us/step - loss: 0.0106 - val_loss: 2.6489e-04\n",
      "Epoch 100/250\n",
      "57/57 [==============================] - 0s 663us/step - loss: 0.0091 - val_loss: 3.2777e-04\n",
      "Epoch 101/250\n",
      "57/57 [==============================] - 0s 616us/step - loss: 0.0072 - val_loss: 4.7433e-04\n",
      "Epoch 102/250\n",
      "57/57 [==============================] - 0s 618us/step - loss: 0.0085 - val_loss: 0.0010\n",
      "Epoch 103/250\n",
      "57/57 [==============================] - 0s 611us/step - loss: 0.0082 - val_loss: 6.0840e-04\n",
      "Epoch 104/250\n",
      "57/57 [==============================] - 0s 606us/step - loss: 0.0113 - val_loss: 5.8832e-04\n",
      "Epoch 105/250\n",
      "57/57 [==============================] - 0s 514us/step - loss: 0.0074 - val_loss: 2.6773e-04\n",
      "Epoch 106/250\n",
      "57/57 [==============================] - 0s 560us/step - loss: 0.0121 - val_loss: 2.9368e-04\n",
      "Epoch 107/250\n",
      "57/57 [==============================] - 0s 550us/step - loss: 0.0069 - val_loss: 3.1742e-04\n",
      "Epoch 108/250\n",
      "57/57 [==============================] - 0s 531us/step - loss: 0.0081 - val_loss: 1.9506e-04\n",
      "Epoch 109/250\n",
      "57/57 [==============================] - 0s 618us/step - loss: 0.0083 - val_loss: 2.7512e-04\n",
      "Epoch 110/250\n",
      "57/57 [==============================] - 0s 578us/step - loss: 0.0089 - val_loss: 2.1839e-04\n",
      "Epoch 111/250\n",
      "57/57 [==============================] - 0s 638us/step - loss: 0.0123 - val_loss: 2.0776e-04\n",
      "Epoch 112/250\n",
      "57/57 [==============================] - 0s 554us/step - loss: 0.0091 - val_loss: 1.9992e-04\n",
      "Epoch 113/250\n",
      "57/57 [==============================] - 0s 590us/step - loss: 0.0086 - val_loss: 2.7106e-04\n",
      "Epoch 114/250\n",
      "57/57 [==============================] - 0s 630us/step - loss: 0.0069 - val_loss: 4.5780e-04\n",
      "Epoch 115/250\n",
      "57/57 [==============================] - 0s 668us/step - loss: 0.0101 - val_loss: 4.7456e-04\n",
      "Epoch 116/250\n",
      "57/57 [==============================] - 0s 632us/step - loss: 0.0074 - val_loss: 3.2619e-04\n",
      "Epoch 117/250\n",
      "57/57 [==============================] - 0s 633us/step - loss: 0.0138 - val_loss: 2.5739e-04\n",
      "Epoch 118/250\n",
      "57/57 [==============================] - 0s 528us/step - loss: 0.0083 - val_loss: 2.1469e-04\n",
      "Epoch 119/250\n",
      "57/57 [==============================] - 0s 518us/step - loss: 0.0107 - val_loss: 1.9638e-04\n",
      "Epoch 120/250\n",
      "57/57 [==============================] - 0s 608us/step - loss: 0.0088 - val_loss: 3.2931e-04\n",
      "Epoch 121/250\n",
      "57/57 [==============================] - 0s 544us/step - loss: 0.0082 - val_loss: 3.3430e-04\n",
      "Epoch 122/250\n",
      "57/57 [==============================] - 0s 571us/step - loss: 0.0094 - val_loss: 4.0960e-04\n",
      "Epoch 123/250\n",
      "57/57 [==============================] - 0s 572us/step - loss: 0.0077 - val_loss: 5.5617e-04\n",
      "Epoch 124/250\n",
      "57/57 [==============================] - 0s 589us/step - loss: 0.0081 - val_loss: 3.4616e-04\n",
      "Epoch 125/250\n",
      "57/57 [==============================] - 0s 547us/step - loss: 0.0102 - val_loss: 1.9485e-04\n",
      "Epoch 126/250\n",
      "57/57 [==============================] - 0s 632us/step - loss: 0.0098 - val_loss: 2.5328e-04\n",
      "Epoch 127/250\n",
      "57/57 [==============================] - 0s 695us/step - loss: 0.0078 - val_loss: 2.2641e-04\n",
      "Epoch 128/250\n",
      "57/57 [==============================] - 0s 648us/step - loss: 0.0098 - val_loss: 5.6626e-04\n",
      "Epoch 129/250\n",
      "57/57 [==============================] - 0s 618us/step - loss: 0.0109 - val_loss: 4.4538e-04\n",
      "Epoch 130/250\n",
      "57/57 [==============================] - 0s 639us/step - loss: 0.0096 - val_loss: 3.6498e-04\n",
      "Epoch 131/250\n",
      "57/57 [==============================] - 0s 541us/step - loss: 0.0085 - val_loss: 2.1814e-04\n",
      "Epoch 132/250\n",
      "57/57 [==============================] - 0s 599us/step - loss: 0.0067 - val_loss: 3.1946e-04\n",
      "Epoch 133/250\n",
      "57/57 [==============================] - 0s 649us/step - loss: 0.0082 - val_loss: 4.0738e-04\n",
      "Epoch 134/250\n",
      "57/57 [==============================] - 0s 540us/step - loss: 0.0075 - val_loss: 3.0474e-04\n",
      "Epoch 135/250\n",
      "57/57 [==============================] - 0s 543us/step - loss: 0.0077 - val_loss: 6.7850e-04\n",
      "Epoch 136/250\n",
      "57/57 [==============================] - 0s 558us/step - loss: 0.0107 - val_loss: 5.0536e-04\n",
      "Epoch 137/250\n",
      "57/57 [==============================] - 0s 530us/step - loss: 0.0081 - val_loss: 6.2106e-04\n",
      "Epoch 138/250\n",
      "57/57 [==============================] - 0s 515us/step - loss: 0.0102 - val_loss: 4.0500e-04\n",
      "Epoch 139/250\n",
      "57/57 [==============================] - 0s 570us/step - loss: 0.0111 - val_loss: 7.6307e-04\n",
      "Epoch 140/250\n",
      "57/57 [==============================] - 0s 665us/step - loss: 0.0068 - val_loss: 4.8587e-04\n",
      "Epoch 141/250\n",
      "57/57 [==============================] - 0s 525us/step - loss: 0.0111 - val_loss: 5.1808e-04\n",
      "Epoch 142/250\n",
      "57/57 [==============================] - 0s 653us/step - loss: 0.0087 - val_loss: 8.4870e-04\n",
      "Epoch 143/250\n",
      "57/57 [==============================] - 0s 694us/step - loss: 0.0097 - val_loss: 4.3722e-04\n",
      "Epoch 144/250\n",
      "57/57 [==============================] - 0s 547us/step - loss: 0.0141 - val_loss: 2.5276e-04\n",
      "Epoch 145/250\n",
      "57/57 [==============================] - 0s 600us/step - loss: 0.0062 - val_loss: 1.9288e-04\n",
      "Epoch 146/250\n",
      "57/57 [==============================] - 0s 527us/step - loss: 0.0105 - val_loss: 1.9354e-04\n",
      "Epoch 147/250\n",
      "57/57 [==============================] - 0s 593us/step - loss: 0.0090 - val_loss: 2.1627e-04\n",
      "Epoch 148/250\n",
      "57/57 [==============================] - 0s 531us/step - loss: 0.0109 - val_loss: 2.6689e-04\n",
      "Epoch 149/250\n",
      "57/57 [==============================] - 0s 502us/step - loss: 0.0100 - val_loss: 4.9449e-04\n",
      "Epoch 150/250\n",
      "57/57 [==============================] - 0s 526us/step - loss: 0.0060 - val_loss: 3.5644e-04\n",
      "Epoch 151/250\n",
      "57/57 [==============================] - 0s 574us/step - loss: 0.0080 - val_loss: 8.9772e-04\n",
      "Epoch 152/250\n",
      "57/57 [==============================] - 0s 548us/step - loss: 0.0096 - val_loss: 3.3092e-04\n",
      "Epoch 153/250\n",
      "57/57 [==============================] - 0s 509us/step - loss: 0.0102 - val_loss: 3.5917e-04\n",
      "Epoch 154/250\n",
      "57/57 [==============================] - ETA: 0s - loss: 0.002 - 0s 537us/step - loss: 0.0073 - val_loss: 6.2701e-04\n",
      "Epoch 155/250\n",
      "57/57 [==============================] - 0s 530us/step - loss: 0.0100 - val_loss: 2.5729e-04\n",
      "Epoch 156/250\n",
      "57/57 [==============================] - 0s 494us/step - loss: 0.0119 - val_loss: 6.3831e-04\n",
      "Epoch 157/250\n",
      "57/57 [==============================] - 0s 559us/step - loss: 0.0086 - val_loss: 3.0145e-04\n"
     ]
    },
    {
     "name": "stdout",
     "output_type": "stream",
     "text": [
      "Epoch 158/250\n",
      "57/57 [==============================] - 0s 497us/step - loss: 0.0087 - val_loss: 5.1123e-04\n",
      "Epoch 159/250\n",
      "57/57 [==============================] - 0s 554us/step - loss: 0.0100 - val_loss: 3.3524e-04\n",
      "Epoch 160/250\n",
      "57/57 [==============================] - 0s 527us/step - loss: 0.0077 - val_loss: 5.2747e-04\n",
      "Epoch 161/250\n",
      "57/57 [==============================] - 0s 650us/step - loss: 0.0076 - val_loss: 3.1958e-04\n",
      "Epoch 162/250\n",
      "57/57 [==============================] - 0s 637us/step - loss: 0.0100 - val_loss: 2.5934e-04\n",
      "Epoch 163/250\n",
      "57/57 [==============================] - 0s 537us/step - loss: 0.0148 - val_loss: 2.4290e-04\n",
      "Epoch 164/250\n",
      "57/57 [==============================] - 0s 612us/step - loss: 0.0155 - val_loss: 3.3375e-04\n",
      "Epoch 165/250\n",
      "57/57 [==============================] - 0s 578us/step - loss: 0.0098 - val_loss: 2.0756e-04\n",
      "Epoch 166/250\n",
      "57/57 [==============================] - 0s 828us/step - loss: 0.0088 - val_loss: 6.9732e-04\n",
      "Epoch 167/250\n",
      "57/57 [==============================] - 0s 578us/step - loss: 0.0106 - val_loss: 3.7387e-04\n",
      "Epoch 168/250\n",
      "57/57 [==============================] - 0s 623us/step - loss: 0.0127 - val_loss: 4.4831e-04\n",
      "Epoch 169/250\n",
      "57/57 [==============================] - 0s 568us/step - loss: 0.0069 - val_loss: 3.0843e-04\n",
      "Epoch 170/250\n",
      "57/57 [==============================] - 0s 727us/step - loss: 0.0107 - val_loss: 6.8149e-04\n",
      "Epoch 171/250\n",
      "57/57 [==============================] - 0s 714us/step - loss: 0.0090 - val_loss: 3.0210e-04\n",
      "Epoch 172/250\n",
      "57/57 [==============================] - 0s 542us/step - loss: 0.0064 - val_loss: 7.4069e-04\n",
      "Epoch 173/250\n",
      "57/57 [==============================] - 0s 607us/step - loss: 0.0094 - val_loss: 9.1563e-04\n",
      "Epoch 174/250\n",
      "57/57 [==============================] - 0s 597us/step - loss: 0.0098 - val_loss: 2.6011e-04\n",
      "Epoch 175/250\n",
      "57/57 [==============================] - 0s 598us/step - loss: 0.0096 - val_loss: 2.0080e-04\n",
      "Epoch 176/250\n",
      "57/57 [==============================] - 0s 609us/step - loss: 0.0105 - val_loss: 1.9456e-04\n",
      "Epoch 177/250\n",
      "57/57 [==============================] - 0s 538us/step - loss: 0.0090 - val_loss: 1.9724e-04\n",
      "Epoch 178/250\n",
      "57/57 [==============================] - 0s 582us/step - loss: 0.0085 - val_loss: 2.3778e-04\n",
      "Epoch 179/250\n",
      "57/57 [==============================] - ETA: 0s - loss: 0.012 - 0s 542us/step - loss: 0.0105 - val_loss: 3.3505e-04\n",
      "Epoch 180/250\n",
      "57/57 [==============================] - 0s 569us/step - loss: 0.0113 - val_loss: 4.3032e-04\n",
      "Epoch 181/250\n",
      "57/57 [==============================] - 0s 558us/step - loss: 0.0104 - val_loss: 2.4598e-04\n",
      "Epoch 182/250\n",
      "57/57 [==============================] - 0s 581us/step - loss: 0.0105 - val_loss: 2.5287e-04\n",
      "Epoch 183/250\n",
      "57/57 [==============================] - 0s 567us/step - loss: 0.0098 - val_loss: 2.5773e-04\n",
      "Epoch 184/250\n",
      "57/57 [==============================] - 0s 509us/step - loss: 0.0121 - val_loss: 4.1353e-04\n",
      "Epoch 185/250\n",
      "57/57 [==============================] - 0s 563us/step - loss: 0.0086 - val_loss: 4.8401e-04\n",
      "Epoch 186/250\n",
      "57/57 [==============================] - 0s 530us/step - loss: 0.0108 - val_loss: 2.9941e-04\n",
      "Epoch 187/250\n",
      "57/57 [==============================] - 0s 544us/step - loss: 0.0104 - val_loss: 2.0505e-04\n",
      "Epoch 188/250\n",
      "57/57 [==============================] - 0s 623us/step - loss: 0.0102 - val_loss: 2.5067e-04\n",
      "Epoch 189/250\n",
      "57/57 [==============================] - 0s 559us/step - loss: 0.0086 - val_loss: 1.9985e-04\n",
      "Epoch 190/250\n",
      "57/57 [==============================] - 0s 558us/step - loss: 0.0111 - val_loss: 1.9617e-04\n",
      "Epoch 191/250\n",
      "57/57 [==============================] - 0s 580us/step - loss: 0.0092 - val_loss: 2.8461e-04\n",
      "Epoch 192/250\n",
      "57/57 [==============================] - 0s 567us/step - loss: 0.0122 - val_loss: 5.3160e-04\n",
      "Epoch 193/250\n",
      "57/57 [==============================] - 0s 549us/step - loss: 0.0088 - val_loss: 3.8262e-04\n",
      "Epoch 194/250\n",
      "57/57 [==============================] - 0s 567us/step - loss: 0.0097 - val_loss: 2.8205e-04\n",
      "Epoch 195/250\n",
      "57/57 [==============================] - 0s 619us/step - loss: 0.0083 - val_loss: 3.7081e-04\n",
      "Epoch 196/250\n",
      "57/57 [==============================] - 0s 494us/step - loss: 0.0104 - val_loss: 2.7783e-04\n",
      "Epoch 197/250\n",
      "57/57 [==============================] - 0s 528us/step - loss: 0.0097 - val_loss: 1.9788e-04\n",
      "Epoch 198/250\n",
      "57/57 [==============================] - 0s 594us/step - loss: 0.0083 - val_loss: 3.2384e-04\n",
      "Epoch 199/250\n",
      "57/57 [==============================] - 0s 732us/step - loss: 0.0106 - val_loss: 2.1397e-04\n",
      "Epoch 200/250\n",
      "57/57 [==============================] - 0s 517us/step - loss: 0.0105 - val_loss: 1.9852e-04\n",
      "Epoch 201/250\n",
      "57/57 [==============================] - 0s 496us/step - loss: 0.0102 - val_loss: 4.1006e-04\n",
      "Epoch 202/250\n",
      "57/57 [==============================] - 0s 584us/step - loss: 0.0082 - val_loss: 7.7268e-04\n",
      "Epoch 203/250\n",
      "57/57 [==============================] - 0s 581us/step - loss: 0.0105 - val_loss: 2.0363e-04\n",
      "Epoch 204/250\n",
      "57/57 [==============================] - 0s 563us/step - loss: 0.0082 - val_loss: 1.9670e-04\n",
      "Epoch 205/250\n",
      "57/57 [==============================] - 0s 507us/step - loss: 0.0075 - val_loss: 1.9599e-04\n",
      "Epoch 206/250\n",
      "57/57 [==============================] - 0s 516us/step - loss: 0.0074 - val_loss: 2.9364e-04\n",
      "Epoch 207/250\n",
      "57/57 [==============================] - 0s 535us/step - loss: 0.0078 - val_loss: 2.4958e-04\n",
      "Epoch 208/250\n",
      "57/57 [==============================] - 0s 553us/step - loss: 0.0076 - val_loss: 3.1558e-04\n",
      "Epoch 209/250\n",
      "57/57 [==============================] - 0s 626us/step - loss: 0.0095 - val_loss: 1.9217e-04\n",
      "Epoch 210/250\n",
      "57/57 [==============================] - 0s 537us/step - loss: 0.0090 - val_loss: 2.8185e-04\n",
      "Epoch 211/250\n",
      "57/57 [==============================] - 0s 638us/step - loss: 0.0111 - val_loss: 1.9418e-04\n",
      "Epoch 212/250\n",
      "57/57 [==============================] - 0s 581us/step - loss: 0.0086 - val_loss: 4.6542e-04\n",
      "Epoch 213/250\n",
      "57/57 [==============================] - 0s 659us/step - loss: 0.0094 - val_loss: 2.6426e-04\n",
      "Epoch 214/250\n",
      "57/57 [==============================] - 0s 587us/step - loss: 0.0109 - val_loss: 2.1130e-04\n",
      "Epoch 215/250\n",
      "57/57 [==============================] - 0s 777us/step - loss: 0.0102 - val_loss: 2.1754e-04\n",
      "Epoch 216/250\n",
      "57/57 [==============================] - 0s 669us/step - loss: 0.0082 - val_loss: 1.9547e-04\n",
      "Epoch 217/250\n",
      "57/57 [==============================] - 0s 580us/step - loss: 0.0077 - val_loss: 2.6389e-04\n",
      "Epoch 218/250\n",
      "57/57 [==============================] - 0s 653us/step - loss: 0.0125 - val_loss: 3.3959e-04\n",
      "Epoch 219/250\n",
      "57/57 [==============================] - 0s 623us/step - loss: 0.0072 - val_loss: 4.0662e-04\n",
      "Epoch 220/250\n",
      "57/57 [==============================] - 0s 640us/step - loss: 0.0087 - val_loss: 3.9212e-04\n",
      "Epoch 221/250\n",
      "57/57 [==============================] - 0s 782us/step - loss: 0.0095 - val_loss: 3.1839e-04\n",
      "Epoch 222/250\n",
      "57/57 [==============================] - 0s 598us/step - loss: 0.0103 - val_loss: 4.1126e-04\n",
      "Epoch 223/250\n",
      "57/57 [==============================] - 0s 568us/step - loss: 0.0093 - val_loss: 2.0899e-04\n",
      "Epoch 224/250\n",
      "57/57 [==============================] - 0s 672us/step - loss: 0.0097 - val_loss: 2.0699e-04\n",
      "Epoch 225/250\n",
      "57/57 [==============================] - 0s 933us/step - loss: 0.0077 - val_loss: 1.9584e-04\n",
      "Epoch 226/250\n",
      "57/57 [==============================] - 0s 557us/step - loss: 0.0113 - val_loss: 2.1749e-04\n",
      "Epoch 227/250\n",
      "57/57 [==============================] - 0s 560us/step - loss: 0.0080 - val_loss: 1.9285e-04\n",
      "Epoch 228/250\n",
      "57/57 [==============================] - 0s 570us/step - loss: 0.0085 - val_loss: 2.3386e-04\n",
      "Epoch 229/250\n",
      "57/57 [==============================] - 0s 533us/step - loss: 0.0102 - val_loss: 2.1288e-04\n",
      "Epoch 230/250\n",
      "57/57 [==============================] - 0s 583us/step - loss: 0.0087 - val_loss: 2.1501e-04\n",
      "Epoch 231/250\n",
      "57/57 [==============================] - 0s 559us/step - loss: 0.0071 - val_loss: 5.7507e-04\n",
      "Epoch 232/250\n",
      "57/57 [==============================] - 0s 584us/step - loss: 0.0068 - val_loss: 3.3279e-04\n",
      "Epoch 233/250\n",
      "57/57 [==============================] - 0s 566us/step - loss: 0.0102 - val_loss: 6.7227e-04\n",
      "Epoch 234/250\n"
     ]
    },
    {
     "name": "stdout",
     "output_type": "stream",
     "text": [
      "57/57 [==============================] - 0s 595us/step - loss: 0.0092 - val_loss: 5.5956e-04\n",
      "Epoch 235/250\n",
      "57/57 [==============================] - 0s 549us/step - loss: 0.0086 - val_loss: 4.0182e-04\n",
      "Epoch 236/250\n",
      "57/57 [==============================] - 0s 618us/step - loss: 0.0103 - val_loss: 4.8003e-04\n",
      "Epoch 237/250\n",
      "57/57 [==============================] - 0s 647us/step - loss: 0.0076 - val_loss: 3.9165e-04\n",
      "Epoch 238/250\n",
      "57/57 [==============================] - 0s 656us/step - loss: 0.0099 - val_loss: 2.4313e-04\n",
      "Epoch 239/250\n",
      "57/57 [==============================] - 0s 647us/step - loss: 0.0101 - val_loss: 4.0009e-04\n",
      "Epoch 240/250\n",
      "57/57 [==============================] - 0s 616us/step - loss: 0.0097 - val_loss: 4.2695e-04\n",
      "Epoch 241/250\n",
      "57/57 [==============================] - 0s 741us/step - loss: 0.0110 - val_loss: 1.9310e-04\n",
      "Epoch 242/250\n",
      "57/57 [==============================] - 0s 583us/step - loss: 0.0091 - val_loss: 2.6871e-04\n",
      "Epoch 243/250\n",
      "57/57 [==============================] - 0s 633us/step - loss: 0.0068 - val_loss: 2.4261e-04\n",
      "Epoch 244/250\n",
      "57/57 [==============================] - 0s 566us/step - loss: 0.0088 - val_loss: 3.0743e-04\n",
      "Epoch 245/250\n",
      "57/57 [==============================] - 0s 629us/step - loss: 0.0151 - val_loss: 3.3503e-04\n",
      "Epoch 246/250\n",
      "57/57 [==============================] - 0s 663us/step - loss: 0.0080 - val_loss: 2.8202e-04\n",
      "Epoch 247/250\n",
      "57/57 [==============================] - 0s 560us/step - loss: 0.0107 - val_loss: 5.7685e-04\n",
      "Epoch 248/250\n",
      "57/57 [==============================] - 0s 630us/step - loss: 0.0095 - val_loss: 2.4962e-04\n",
      "Epoch 249/250\n",
      "57/57 [==============================] - 0s 632us/step - loss: 0.0102 - val_loss: 3.7402e-04\n",
      "Epoch 250/250\n",
      "57/57 [==============================] - 0s 617us/step - loss: 0.0093 - val_loss: 2.6646e-04\n"
     ]
    },
    {
     "data": {
      "text/plain": [
       "<keras.callbacks.History at 0x11dee0450>"
      ]
     },
     "execution_count": 13,
     "metadata": {},
     "output_type": "execute_result"
    }
   ],
   "source": [
    "model.fit(X_train, y_train, batch_size=25, nb_epoch=250, validation_split=.15,verbose=1)"
   ]
  },
  {
   "cell_type": "code",
   "execution_count": 20,
   "metadata": {
    "collapsed": true
   },
   "outputs": [],
   "source": [
    "# make predictions\n",
    "trainPredict = model.predict(X_train)\n",
    "testPredict = model.predict(X_test)\n",
    "\n",
    "futurePredict = model.predict(np.asarray([[testPredict[-1]]]))\n",
    "futurePredict = scaler.inverse_transform(futurePredict)"
   ]
  },
  {
   "cell_type": "code",
   "execution_count": 15,
   "metadata": {
    "collapsed": true
   },
   "outputs": [],
   "source": [
    "# invert predictions\n",
    "trainPredict = scaler.inverse_transform(trainPredict)\n",
    "y_train = scaler.inverse_transform([y_train])\n",
    "testPredict = scaler.inverse_transform(testPredict)\n",
    "y_test = scaler.inverse_transform([y_test])"
   ]
  },
  {
   "cell_type": "code",
   "execution_count": 239,
   "metadata": {},
   "outputs": [
    {
     "name": "stdout",
     "output_type": "stream",
     "text": [
      "Train Score: 127.15 RMSE\n"
     ]
    }
   ],
   "source": [
    "# calculate root mean squared error\n",
    "trainScore = math.sqrt(mean_squared_error(y_train[0], trainPredict[:,0]))\n",
    "print('Train Score: %.2f RMSE' % (trainScore))"
   ]
  },
  {
   "cell_type": "code",
   "execution_count": 240,
   "metadata": {},
   "outputs": [
    {
     "name": "stdout",
     "output_type": "stream",
     "text": [
      "Test Score: 783.64 RMSE\n"
     ]
    }
   ],
   "source": [
    "testScore = math.sqrt(mean_squared_error(y_test[0], testPredict[:,0]))\n",
    "print('Test Score: %.2f RMSE' % (testScore))"
   ]
  },
  {
   "cell_type": "code",
   "execution_count": 16,
   "metadata": {},
   "outputs": [
    {
     "name": "stdout",
     "output_type": "stream",
     "text": [
      "R2 score: -0.96\n"
     ]
    }
   ],
   "source": [
    "#calculate R2 score\n",
    "R2=r2_score(y_test[0],testPredict[:,0])\n",
    "print ('R2 score: %.2f'% (R2))"
   ]
  },
  {
   "cell_type": "code",
   "execution_count": 17,
   "metadata": {
    "collapsed": true
   },
   "outputs": [],
   "source": [
    "# shift train predictions for plotting\n",
    "trainPredictPlot = np.empty_like(bitcoin)\n",
    "trainPredictPlot[:, :] = np.nan\n",
    "trainPredictPlot[look_back:len(trainPredict)+look_back, :] = trainPredict"
   ]
  },
  {
   "cell_type": "code",
   "execution_count": 243,
   "metadata": {
    "collapsed": true
   },
   "outputs": [],
   "source": [
    "# shift test predictions for plotting\n",
    "testPredictPlot = np.empty_like(bitcoin)\n",
    "testPredictPlot[:, :] = np.nan\n",
    "testPredictPlot[len(trainPredict)+(look_back*2)+1:len(bitcoin)-1, :] = testPredict"
   ]
  },
  {
   "cell_type": "code",
   "execution_count": 244,
   "metadata": {},
   "outputs": [
    {
     "data": {
      "image/png": "[encoded data removed]",
      "text/plain": [
       "<matplotlib.figure.Figure at 0x13c04d550>"
      ]
     },
     "metadata": {},
     "output_type": "display_data"
    }
   ],
   "source": [
    "# plot baseline and predictions\n",
    "plt.plot(scaler.inverse_transform(bitcoin))\n",
    "plt.xlabel('Days')\n",
    "plt.ylabel('Prices')\n",
    "plt.title('Last Year Data')\n",
    "plt.show()"
   ]
  },
  {
   "cell_type": "code",
   "execution_count": 245,
   "metadata": {},
   "outputs": [
    {
     "data": {
      "image/png": "[encoded data removed]",
      "text/plain": [
       "<matplotlib.figure.Figure at 0x139165510>"
      ]
     },
     "metadata": {},
     "output_type": "display_data"
    }
   ],
   "source": [
    "plt.plot(trainPredictPlot, color='red')\n",
    "plt.xlabel('Days')\n",
    "plt.ylabel('Prices')\n",
    "plt.title('Data That Was Used To Trained')\n",
    "plt.show()"
   ]
  },
  {
   "cell_type": "code",
   "execution_count": 246,
   "metadata": {},
   "outputs": [
    {
     "data": {
      "image/png": "[encoded data removed]",
      "text/plain": [
       "<matplotlib.figure.Figure at 0x1391ef910>"
      ]
     },
     "metadata": {},
     "output_type": "display_data"
    }
   ],
   "source": [
    "plt.plot(testPredictPlot,color='green')\n",
    "plt.xlabel('Days')\n",
    "plt.ylabel('Prices')\n",
    "plt.title('Data Used to Predict')\n",
    "plt.show()"
   ]
  },
  {
   "cell_type": "code",
   "execution_count": 247,
   "metadata": {},
   "outputs": [
    {
     "data": {
      "image/png": "[encoded data removed]",
      "text/plain": [
       "<matplotlib.figure.Figure at 0x139282290>"
      ]
     },
     "metadata": {},
     "output_type": "display_data"
    }
   ],
   "source": [
    "plt.plot(scaler.inverse_transform(bitcoin),label='Previous Data')\n",
    "plt.plot(trainPredictPlot, color='red',label='Date Used to Train')\n",
    "plt.xlabel('Days')\n",
    "plt.ylabel('Prices')\n",
    "plt.title('Data Used Combined With Data Used To Train')\n",
    "plt.legend()\n",
    "plt.show()"
   ]
  },
  {
   "cell_type": "code",
   "execution_count": 248,
   "metadata": {},
   "outputs": [
    {
     "data": {
      "image/png": "[encoded data removed]",
      "text/plain": [
       "<matplotlib.figure.Figure at 0x139359390>"
      ]
     },
     "metadata": {},
     "output_type": "display_data"
    }
   ],
   "source": [
    "plt.plot(scaler.inverse_transform(bitcoin),label='Previous Data')\n",
    "plt.plot(testPredictPlot,color='green',label='Data Used to Train')\n",
    "plt.xlabel('Days')\n",
    "plt.ylabel('Prices')\n",
    "plt.title('Data Used Combined With Data Used To Predict')\n",
    "plt.legend()\n",
    "plt.show()"
   ]
  },
  {
   "cell_type": "code",
   "execution_count": 249,
   "metadata": {},
   "outputs": [
    {
     "data": {
      "image/png": "[encoded data removed]",
      "text/plain": [
       "<matplotlib.figure.Figure at 0x139274490>"
      ]
     },
     "metadata": {},
     "output_type": "display_data"
    }
   ],
   "source": [
    "plt.plot(trainPredictPlot, color='red',label='Data Used To Train')\n",
    "plt.plot(testPredictPlot,color='green',label='Data Used to Predict')\n",
    "plt.xlabel('Days')\n",
    "plt.ylabel('Prices')\n",
    "plt.title('Data Used To Train Combined with Data Used To Predict')\n",
    "plt.legend()\n",
    "plt.show()"
   ]
  },
  {
   "cell_type": "code",
   "execution_count": 250,
   "metadata": {},
   "outputs": [
    {
     "data": {
      "image/png": "[encoded data removed]",
      "text/plain": [
       "<matplotlib.figure.Figure at 0x1377eddd0>"
      ]
     },
     "metadata": {},
     "output_type": "display_data"
    }
   ],
   "source": [
    "plt.plot(scaler.inverse_transform(bitcoin),label='Previous Data')\n",
    "plt.plot(trainPredictPlot, color='red',label='Data Used To Train')\n",
    "plt.plot(testPredictPlot,color='green',label='Data USed to Predict')\n",
    "plt.xlabel('Days')\n",
    "plt.ylabel('Prices')\n",
    "plt.title('Data Used Combined With Data Used To Train Combined With Data To Predict')\n",
    "plt.legend()\n",
    "plt.show()"
   ]
  },
  {
   "cell_type": "code",
   "execution_count": 19,
   "metadata": {},
   "outputs": [
    {
     "name": "stdout",
     "output_type": "stream",
     "text": [
      "Price for the Last 5 Days were: \n",
      "\n",
      "[[0.05527568]\n",
      " [0.05213967]\n",
      " [0.0513319 ]\n",
      " [0.05020038]\n",
      " [0.04816943]]\n"
     ]
    }
   ],
   "source": [
    "#Value for the Last 5 Days \n",
    "print(\"Price for the Last 5 Days were: \\n\")\n",
    "print (testPredict[-5:])"
   ]
  },
  {
   "cell_type": "code",
   "execution_count": 21,
   "metadata": {},
   "outputs": [
    {
     "name": "stdout",
     "output_type": "stream",
     "text": [
      "('Bitcoin price for tomorrow: ', array([[0.04896911]], dtype=float32))\n"
     ]
    }
   ],
   "source": [
    "print(\"Bitcoin price for tomorrow: \", futurePredict)"
   ]
  },
  {
   "cell_type": "code",
   "execution_count": null,
   "metadata": {
    "collapsed": true
   },
   "outputs": [],
   "source": []
  }
 ],
 "metadata": {
  "kernelspec": {
   "display_name": "Python 2",
   "language": "python",
   "name": "python2"
  },
  "language_info": {
   "codemirror_mode": {
    "name": "ipython",
    "version": 2
   },
   "file_extension": ".py",
   "mimetype": "text/x-python",
   "name": "python",
   "nbconvert_exporter": "python",
   "pygments_lexer": "ipython2",
   "version": "2.7.13"
  }
 },
 "nbformat": 4,
 "nbformat_minor": 2
}
